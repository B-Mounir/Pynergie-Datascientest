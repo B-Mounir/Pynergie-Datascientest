{
 "cells": [
  {
   "cell_type": "markdown",
   "id": "3cd06040",
   "metadata": {},
   "source": [
    "# Preprocessing des données"
   ]
  },
  {
   "cell_type": "code",
   "execution_count": 2,
   "id": "baf355eb",
   "metadata": {},
   "outputs": [
    {
     "name": "stderr",
     "output_type": "stream",
     "text": [
      "C:\\Users\\romat\\anaconda3\\lib\\site-packages\\IPython\\core\\interactiveshell.py:3165: DtypeWarning: Columns (15,16,17,18,19,20,21,22,23,24,25,26,27,28,29,30,31,32,33,34,35,36,37,38,39,40,41,42,43,44,45,46,47,48,49,50,51,52,54,56,58,60,62,64) have mixed types.Specify dtype option on import or set low_memory=False.\n",
      "  has_raised = await self.run_ast_nodes(code_ast.body, cell_name,\n"
     ]
    }
   ],
   "source": [
    "#from google.colab import drive\n",
    "#drive.mount('/content/drive')\n",
    "import pandas as pd\n",
    "import io\n",
    "\n",
    "#chargement pour google colab\n",
    "#path = '/content/drive/MyDrive/Colab Notebooks/eco2mix-regional-cons-def.csv'\n",
    "#df = pd.read_csv(path, sep = ';');\n",
    "\n",
    "#chargement local\n",
    "df = pd.read_csv('eco2mix-regional-cons-def.csv', sep=';')"
   ]
  },
  {
   "cell_type": "code",
   "execution_count": 3,
   "id": "71aa893d",
   "metadata": {},
   "outputs": [],
   "source": [
    "import numpy as np\n",
    "import matplotlib.pyplot as plt\n",
    "import seaborn as sns\n",
    "\n",
    "from sklearn.metrics import mean_squared_error\n",
    "from sklearn.linear_model import LinearRegression\n",
    "from sklearn.model_selection import train_test_split, cross_val_score\n",
    "from sklearn.feature_selection import SelectKBest, f_regression, SelectFromModel, VarianceThreshold\n",
    "from sklearn import preprocessing, model_selection\n",
    "\n",
    "from statsmodels.tsa.seasonal import seasonal_decompose\n",
    "from statsmodels.graphics.tsaplots import plot_pacf, plot_acf\n",
    "import statsmodels\n",
    "import statsmodels.api as sm\n",
    "import scipy.stats\n",
    "\n",
    "import datetime\n",
    "%matplotlib inline"
   ]
  },
  {
   "cell_type": "code",
   "execution_count": 4,
   "id": "49e649fa",
   "metadata": {},
   "outputs": [
    {
     "name": "stdout",
     "output_type": "stream",
     "text": [
      "Nombre de lignes total = 1787328\n"
     ]
    },
    {
     "data": {
      "text/plain": [
       "Code INSEE région                                                 0\n",
       "Région                                                            0\n",
       "Nature                                                            0\n",
       "Date                                                              0\n",
       "Heure                                                             0\n",
       "Date - Heure                                                      0\n",
       "Consommation (MW)                                                12\n",
       "Thermique (MW)                                                   12\n",
       "Nucléaire (MW)                                               744727\n",
       "Eolien (MW)                                                     108\n",
       "Solaire (MW)                                                     12\n",
       "Hydraulique (MW)                                                 12\n",
       "Pompage (MW)                                                 779767\n",
       "Bioénergies (MW)                                                 12\n",
       "Ech. physiques (MW)                                              12\n",
       "Flux physiques d'Auvergne-Rhône-Alpes vers Grand-Est        1761072\n",
       "Flux physiques de Bourgogne-Franche-Comté vers Grand-Est    1734816\n",
       "Flux physiques de Bretagne vers Grand-Est                   1734816\n",
       "Flux physiques de Centre-Val de Loire vers Grand-Est        1734816\n",
       "Flux physiques de Grand-Est vers Grand-Est                  1761072\n",
       "Flux physiques de Hauts-de-France vers Grand-Est            1734816\n",
       "Flux physiques d'Ile-de-France vers Grand-Est               1761072\n",
       "Flux physiques de Normandie vers Grand-Est                  1734816\n",
       "Flux physiques de Nouvelle-Aquitaine vers Grand-Est         1734816\n",
       "Flux physiques d'Occitanie vers Grand-Est                   1761072\n",
       "Flux physiques de Pays-de-la-Loire vers Grand-Est           1734816\n",
       "Flux physiques de PACA vers Grand-Est                       1734816\n",
       "Flux physiques de Grand-Est vers Auvergne-Rhône-Alpes       1734816\n",
       "Flux physiques de Grand-Est vers Bourgogne-Franche-Comté    1734816\n",
       "Flux physiques de Grand-Est vers Bretagne                   1734816\n",
       "Flux physiques de Grand-Est vers Centre-Val de Loire        1734816\n",
       "Flux physiques de Grand-Est vers Grand-Est.1                1761072\n",
       "Flux physiques de Grand-Est vers Hauts-de-France            1734816\n",
       "Flux physiques de Grand-Est vers Ile-de-France              1734816\n",
       "Flux physiques de Grand-Est vers Normandie                  1734816\n",
       "Flux physiques de Grand-Est vers Nouvelle-Aquitaine         1734816\n",
       "Flux physiques de Grand-Est vers Occitanie                  1734816\n",
       "Flux physiques de Grand-Est vers Pays-de-la-Loire           1734816\n",
       "Flux physiques de Grand-Est vers PACA                       1734816\n",
       "Flux physiques Allemagne vers Grand-Est                     1761072\n",
       "Flux physiques Belgique vers Grand-Est                      1761072\n",
       "Flux physiques Espagne vers Grand-Est                       1761072\n",
       "Flux physiques Italie vers Grand-Est                        1761072\n",
       "Flux physiques Luxembourg vers Grand-Est                    1761072\n",
       "Flux physiques Royaume-Uni vers Grand-Est                   1761072\n",
       "Flux physiques Suisse vers Grand-Est                        1761072\n",
       "Flux physiques de Grand-Est vers Allemagne                  1761072\n",
       "Flux physiques de Grand-Est vers Belgique                   1761072\n",
       "Flux physiques de Grand-Est vers Espagne                    1761072\n",
       "Flux physiques de Grand-Est vers Italie                     1761072\n",
       "Flux physiques de Grand-Est vers Luxembourg                 1761072\n",
       "Flux physiques de Grand-Est vers Royaume-Uni                1761072\n",
       "Flux physiques de Grand-Est vers Suisse                     1761072\n",
       "TCO Thermique (%)                                           1472256\n",
       "TCH Thermique (%)                                           1472256\n",
       "TCO Nucléaire (%)                                           1603536\n",
       "TCH Nucléaire (%)                                           1472256\n",
       "TCO Eolien (%)                                              1472256\n",
       "TCH Eolien (%)                                              1472256\n",
       "TCO Solaire (%)                                             1472256\n",
       "TCH Solaire (%)                                             1472256\n",
       "TCO Hydraulique (%)                                         1472256\n",
       "TCH Hydraulique (%)                                         1472256\n",
       "TCO Bioénergies (%)                                         1472256\n",
       "TCH Bioénergies (%)                                         1472256\n",
       "dtype: int64"
      ]
     },
     "execution_count": 4,
     "metadata": {},
     "output_type": "execute_result"
    }
   ],
   "source": [
    "pd.set_option('display.max_rows', 500)\n",
    "pd.set_option('display.max_columns', 500)\n",
    "\n",
    "#compte de lignes et compte des NA\n",
    "print(f'Nombre de lignes total = {len(df)}')\n",
    "df.isna().sum()"
   ]
  },
  {
   "cell_type": "markdown",
   "id": "d25bc408",
   "metadata": {},
   "source": [
    "### Suppression des colonnes et lignes inutiles et gestion des NA \n",
    "Comme vu dans le tableau ci-dessus, certaines colonnes ont un grand nombre de valeurs manquantes (plus de 80% des données). Nous allons supprimer les TCH et les flux car peu significatifs. Pour les TCO, il s'agit des taux de couverture de la consommation seulement calculés après 2020. Nous allons les calculer pour les années précédentes. \n",
    "\n",
    "Pour le reste, en ce qui concerne les données en MW, nous allons remplacer les données manquantes par des 0 (car il s'agit de régions sans production nucléaire par exemple) et nous allons supprimer 2 colonnes techniques ainsi que les lignes sans aucune donnée (au nombre de 12)."
   ]
  },
  {
   "cell_type": "code",
   "execution_count": 5,
   "id": "b2d24f24",
   "metadata": {},
   "outputs": [],
   "source": [
    "#drop des colonnes vides ou quasiment vides (les TCO sont les taux de couverture par filière, les flux sont incomplets, le TCH est inconnu)\n",
    "\n",
    "filter_col2 = [col for col in df if col.startswith('TCH')]\n",
    "filter_col3 = [col for col in df if col.startswith('Flux')]\n",
    "filter_col = filter_col2 + filter_col3\n",
    "\n",
    "df = df.drop(filter_col,axis=1)\n",
    "\n",
    "#drop des colonnes inutiles (techniques)\n",
    "df = df.drop(['Nature'],axis=1)"
   ]
  },
  {
   "cell_type": "code",
   "execution_count": 6,
   "id": "d08ca8ca",
   "metadata": {},
   "outputs": [],
   "source": [
    "#drop des lignes sans data de consommation ou production\n",
    "float_list = list(df.select_dtypes('float64').columns)\n",
    "df = df.dropna(subset=float_list, how='all', axis=0)\n",
    "\n",
    "#remplissage des NA par des 0 sur les colonnes de consommation et production\n",
    "for column in float_list:\n",
    "    df[column].fillna(0, inplace=True)\n",
    "    \n",
    "#remplissage des NAN des colonnes de taux de couverture de la consommation par le calcul correspondant\n",
    "df['TCO Thermique (%)'].fillna((df['Thermique (MW)'] / df['Consommation (MW)']*100), inplace=True)\n",
    "df['TCO Nucléaire (%)'].fillna((df['Nucléaire (MW)'] / df['Consommation (MW)']*100), inplace=True)\n",
    "df['TCO Eolien (%)'].fillna((df['Eolien (MW)'] / df['Consommation (MW)']*100), inplace=True)\n",
    "df['TCO Solaire (%)'].fillna((df['Solaire (MW)'] / df['Consommation (MW)']*100), inplace=True)\n",
    "df['TCO Hydraulique (%)'].fillna((df['Hydraulique (MW)'] / df['Consommation (MW)']*100), inplace=True)\n",
    "df['TCO Bioénergies (%)'].fillna((df['Bioénergies (MW)'] / df['Consommation (MW)']*100), inplace=True)"
   ]
  },
  {
   "cell_type": "markdown",
   "id": "3923b0c4",
   "metadata": {},
   "source": [
    "### Création de nouvelles variables\n",
    "En premier lieu, des colonnes pour agréger certaines données en MW (renouvelables, un solde brut sans transfert, un solde net avec transfert). Ensuite, nous allons créer des taux de couverture de la consommation. Enfin, nous allons extraire les données liées à la date de chaque ligne."
   ]
  },
  {
   "cell_type": "code",
   "execution_count": 7,
   "id": "82a79961",
   "metadata": {},
   "outputs": [],
   "source": [
    "#feature engineering (création de colonnes agrégées)\n",
    "\n",
    "df['Renouvelables (MW)'] = df['Eolien (MW)'] + df['Solaire (MW)'] + df['Hydraulique (MW)'] + df['Bioénergies (MW)'] + df['Pompage (MW)']\n",
    "df['Solde brut (MW)'] = df['Eolien (MW)'] + df['Solaire (MW)'] + df['Hydraulique (MW)'] + df['Bioénergies (MW)'] + df['Thermique (MW)'] + df['Nucléaire (MW)'] + df['Pompage (MW)'] - df['Consommation (MW)']\n",
    "df['Solde avec transferts (MW)'] = df['Eolien (MW)'] + df['Solaire (MW)'] + df['Hydraulique (MW)'] + df['Bioénergies (MW)'] + df['Thermique (MW)'] + df['Nucléaire (MW)'] + df['Pompage (MW)'] + df['Ech. physiques (MW)'] - df['Consommation (MW)']\n",
    "#remarque sur le pompage: uniquement des valeurs négatives donc représente la consommation d'électricité pour alimenter les pompes des stations de transfert d'énergie (STEP). La production doit alors être classifiée dans l'hydraulique.\n",
    "\n",
    "\n",
    "#Taux de couvetures de la consommation\n",
    "\n",
    "df['Taux Couverture (MW)'] = (df['Eolien (MW)'] + df['Solaire (MW)'] + df['Hydraulique (MW)'] + df['Bioénergies (MW)'] + df['Thermique (MW)'] + df['Nucléaire (MW)'] + df['Pompage (MW)']) / df['Consommation (MW)']\n",
    "df['Taux Couverture Renouvelables (MW)'] = df['Renouvelables (MW)'] / df['Consommation (MW)']"
   ]
  },
  {
   "cell_type": "code",
   "execution_count": 8,
   "id": "f1b69e72",
   "metadata": {},
   "outputs": [],
   "source": [
    "#Mise au format date et extraction des éléments de la date en tant que colonnes\n",
    "df['Date'] = pd.to_datetime(df['Date'])\n",
    "df['Weekday'] = df['Date'].dt.weekday\n",
    "df['Jour'] = df['Date'].dt.day\n",
    "df['Mois'] = df['Date'].dt.month\n",
    "df['Trimestre'] = pd.PeriodIndex(df['Date'], freq='Q').astype('string') # alternative: ((x.month-1)//3) +1\n",
    "df['Année'] = df['Date'].dt.year\n",
    "df['Heure'] = pd.to_datetime(df['Heure'], format='%H:%M').dt.time #alternative: format='%H:%M:%S'\n",
    "df['Date - Heure'] = pd.to_datetime(df['Date - Heure'], utc=True)"
   ]
  },
  {
   "cell_type": "code",
   "execution_count": 9,
   "id": "a11754bd",
   "metadata": {},
   "outputs": [
    {
     "data": {
      "text/html": [
       "<div>\n",
       "<style scoped>\n",
       "    .dataframe tbody tr th:only-of-type {\n",
       "        vertical-align: middle;\n",
       "    }\n",
       "\n",
       "    .dataframe tbody tr th {\n",
       "        vertical-align: top;\n",
       "    }\n",
       "\n",
       "    .dataframe thead th {\n",
       "        text-align: right;\n",
       "    }\n",
       "</style>\n",
       "<table border=\"1\" class=\"dataframe\">\n",
       "  <thead>\n",
       "    <tr style=\"text-align: right;\">\n",
       "      <th></th>\n",
       "      <th>Code INSEE région</th>\n",
       "      <th>Consommation (MW)</th>\n",
       "      <th>Thermique (MW)</th>\n",
       "      <th>Nucléaire (MW)</th>\n",
       "      <th>Eolien (MW)</th>\n",
       "      <th>Solaire (MW)</th>\n",
       "      <th>Hydraulique (MW)</th>\n",
       "      <th>Pompage (MW)</th>\n",
       "      <th>Bioénergies (MW)</th>\n",
       "      <th>Ech. physiques (MW)</th>\n",
       "      <th>TCO Thermique (%)</th>\n",
       "      <th>TCO Nucléaire (%)</th>\n",
       "      <th>TCO Eolien (%)</th>\n",
       "      <th>TCO Solaire (%)</th>\n",
       "      <th>TCO Hydraulique (%)</th>\n",
       "      <th>TCO Bioénergies (%)</th>\n",
       "      <th>Renouvelables (MW)</th>\n",
       "      <th>Solde brut (MW)</th>\n",
       "      <th>Solde avec transferts (MW)</th>\n",
       "      <th>Taux Couverture (MW)</th>\n",
       "      <th>Taux Couverture Renouvelables (MW)</th>\n",
       "      <th>Weekday</th>\n",
       "      <th>Jour</th>\n",
       "      <th>Mois</th>\n",
       "      <th>Année</th>\n",
       "    </tr>\n",
       "  </thead>\n",
       "  <tbody>\n",
       "    <tr>\n",
       "      <th>count</th>\n",
       "      <td>1787316.00</td>\n",
       "      <td>1787316.00</td>\n",
       "      <td>1787316.00</td>\n",
       "      <td>1787316.00</td>\n",
       "      <td>1787316.00</td>\n",
       "      <td>1787316.00</td>\n",
       "      <td>1787316.00</td>\n",
       "      <td>1787316.00</td>\n",
       "      <td>1787316.00</td>\n",
       "      <td>1787316.00</td>\n",
       "      <td>1787316.00</td>\n",
       "      <td>1787316.00</td>\n",
       "      <td>1787316.00</td>\n",
       "      <td>1787316.00</td>\n",
       "      <td>1787316.00</td>\n",
       "      <td>1787316.00</td>\n",
       "      <td>1787316.00</td>\n",
       "      <td>1787316.00</td>\n",
       "      <td>1787316.00</td>\n",
       "      <td>1787316.00</td>\n",
       "      <td>1787316.00</td>\n",
       "      <td>1787316.00</td>\n",
       "      <td>1787316.00</td>\n",
       "      <td>1787316.00</td>\n",
       "      <td>1787316.00</td>\n",
       "    </tr>\n",
       "    <tr>\n",
       "      <th>mean</th>\n",
       "      <td>49.92</td>\n",
       "      <td>4499.02</td>\n",
       "      <td>373.95</td>\n",
       "      <td>3678.17</td>\n",
       "      <td>246.14</td>\n",
       "      <td>86.14</td>\n",
       "      <td>608.51</td>\n",
       "      <td>-65.87</td>\n",
       "      <td>81.66</td>\n",
       "      <td>-510.03</td>\n",
       "      <td>1.33</td>\n",
       "      <td>15.09</td>\n",
       "      <td>1.66</td>\n",
       "      <td>0.54</td>\n",
       "      <td>2.12</td>\n",
       "      <td>0.39</td>\n",
       "      <td>956.58</td>\n",
       "      <td>509.67</td>\n",
       "      <td>-0.36</td>\n",
       "      <td>1.22</td>\n",
       "      <td>0.20</td>\n",
       "      <td>3.00</td>\n",
       "      <td>15.72</td>\n",
       "      <td>6.35</td>\n",
       "      <td>2016.76</td>\n",
       "    </tr>\n",
       "    <tr>\n",
       "      <th>std</th>\n",
       "      <td>25.64</td>\n",
       "      <td>2173.38</td>\n",
       "      <td>537.57</td>\n",
       "      <td>3876.44</td>\n",
       "      <td>412.40</td>\n",
       "      <td>209.85</td>\n",
       "      <td>1040.19</td>\n",
       "      <td>243.05</td>\n",
       "      <td>44.55</td>\n",
       "      <td>4372.91</td>\n",
       "      <td>4.72</td>\n",
       "      <td>56.66</td>\n",
       "      <td>6.26</td>\n",
       "      <td>3.03</td>\n",
       "      <td>8.60</td>\n",
       "      <td>0.90</td>\n",
       "      <td>1117.32</td>\n",
       "      <td>4372.87</td>\n",
       "      <td>5.63</td>\n",
       "      <td>1.23</td>\n",
       "      <td>0.18</td>\n",
       "      <td>2.00</td>\n",
       "      <td>8.80</td>\n",
       "      <td>3.45</td>\n",
       "      <td>2.46</td>\n",
       "    </tr>\n",
       "    <tr>\n",
       "      <th>min</th>\n",
       "      <td>11.00</td>\n",
       "      <td>895.00</td>\n",
       "      <td>-83.00</td>\n",
       "      <td>-144.00</td>\n",
       "      <td>-6.00</td>\n",
       "      <td>-23.00</td>\n",
       "      <td>-14.00</td>\n",
       "      <td>-2570.00</td>\n",
       "      <td>4.00</td>\n",
       "      <td>-12219.00</td>\n",
       "      <td>-2.54</td>\n",
       "      <td>-2.98</td>\n",
       "      <td>-0.10</td>\n",
       "      <td>-0.08</td>\n",
       "      <td>-1.06</td>\n",
       "      <td>0.00</td>\n",
       "      <td>-1280.00</td>\n",
       "      <td>-13960.00</td>\n",
       "      <td>-704.00</td>\n",
       "      <td>-0.18</td>\n",
       "      <td>-0.24</td>\n",
       "      <td>0.00</td>\n",
       "      <td>1.00</td>\n",
       "      <td>1.00</td>\n",
       "      <td>2013.00</td>\n",
       "    </tr>\n",
       "    <tr>\n",
       "      <th>25%</th>\n",
       "      <td>27.75</td>\n",
       "      <td>2789.00</td>\n",
       "      <td>24.00</td>\n",
       "      <td>0.00</td>\n",
       "      <td>26.00</td>\n",
       "      <td>0.00</td>\n",
       "      <td>5.00</td>\n",
       "      <td>-1.00</td>\n",
       "      <td>46.00</td>\n",
       "      <td>-4264.00</td>\n",
       "      <td>0.00</td>\n",
       "      <td>0.00</td>\n",
       "      <td>0.00</td>\n",
       "      <td>0.00</td>\n",
       "      <td>0.00</td>\n",
       "      <td>0.00</td>\n",
       "      <td>192.00</td>\n",
       "      <td>-2229.00</td>\n",
       "      <td>-1.00</td>\n",
       "      <td>0.20</td>\n",
       "      <td>0.06</td>\n",
       "      <td>1.00</td>\n",
       "      <td>8.00</td>\n",
       "      <td>3.00</td>\n",
       "      <td>2015.00</td>\n",
       "    </tr>\n",
       "    <tr>\n",
       "      <th>50%</th>\n",
       "      <td>48.00</td>\n",
       "      <td>4111.00</td>\n",
       "      <td>153.00</td>\n",
       "      <td>2583.00</td>\n",
       "      <td>101.00</td>\n",
       "      <td>0.00</td>\n",
       "      <td>57.00</td>\n",
       "      <td>0.00</td>\n",
       "      <td>72.00</td>\n",
       "      <td>473.00</td>\n",
       "      <td>0.00</td>\n",
       "      <td>0.00</td>\n",
       "      <td>0.00</td>\n",
       "      <td>0.00</td>\n",
       "      <td>0.00</td>\n",
       "      <td>0.00</td>\n",
       "      <td>471.00</td>\n",
       "      <td>-473.00</td>\n",
       "      <td>0.00</td>\n",
       "      <td>0.90</td>\n",
       "      <td>0.14</td>\n",
       "      <td>3.00</td>\n",
       "      <td>16.00</td>\n",
       "      <td>6.00</td>\n",
       "      <td>2017.00</td>\n",
       "    </tr>\n",
       "    <tr>\n",
       "      <th>75%</th>\n",
       "      <td>75.25</td>\n",
       "      <td>5741.00</td>\n",
       "      <td>480.00</td>\n",
       "      <td>6845.00</td>\n",
       "      <td>289.00</td>\n",
       "      <td>63.00</td>\n",
       "      <td>897.00</td>\n",
       "      <td>0.00</td>\n",
       "      <td>114.00</td>\n",
       "      <td>2229.00</td>\n",
       "      <td>0.00</td>\n",
       "      <td>0.00</td>\n",
       "      <td>0.00</td>\n",
       "      <td>0.00</td>\n",
       "      <td>0.00</td>\n",
       "      <td>0.00</td>\n",
       "      <td>1370.00</td>\n",
       "      <td>4264.00</td>\n",
       "      <td>0.00</td>\n",
       "      <td>1.86</td>\n",
       "      <td>0.29</td>\n",
       "      <td>5.00</td>\n",
       "      <td>23.00</td>\n",
       "      <td>9.00</td>\n",
       "      <td>2019.00</td>\n",
       "    </tr>\n",
       "    <tr>\n",
       "      <th>max</th>\n",
       "      <td>93.00</td>\n",
       "      <td>15338.00</td>\n",
       "      <td>4293.00</td>\n",
       "      <td>13632.00</td>\n",
       "      <td>4554.00</td>\n",
       "      <td>2392.00</td>\n",
       "      <td>8742.00</td>\n",
       "      <td>0.00</td>\n",
       "      <td>404.00</td>\n",
       "      <td>13959.00</td>\n",
       "      <td>56.89</td>\n",
       "      <td>787.27</td>\n",
       "      <td>100.50</td>\n",
       "      <td>59.47</td>\n",
       "      <td>115.57</td>\n",
       "      <td>7.33</td>\n",
       "      <td>9120.00</td>\n",
       "      <td>12218.00</td>\n",
       "      <td>700.00</td>\n",
       "      <td>8.09</td>\n",
       "      <td>1.31</td>\n",
       "      <td>6.00</td>\n",
       "      <td>31.00</td>\n",
       "      <td>12.00</td>\n",
       "      <td>2021.00</td>\n",
       "    </tr>\n",
       "  </tbody>\n",
       "</table>\n",
       "</div>"
      ],
      "text/plain": [
       "       Code INSEE région  Consommation (MW)  Thermique (MW)  Nucléaire (MW)  \\\n",
       "count         1787316.00         1787316.00      1787316.00      1787316.00   \n",
       "mean               49.92            4499.02          373.95         3678.17   \n",
       "std                25.64            2173.38          537.57         3876.44   \n",
       "min                11.00             895.00          -83.00         -144.00   \n",
       "25%                27.75            2789.00           24.00            0.00   \n",
       "50%                48.00            4111.00          153.00         2583.00   \n",
       "75%                75.25            5741.00          480.00         6845.00   \n",
       "max                93.00           15338.00         4293.00        13632.00   \n",
       "\n",
       "       Eolien (MW)  Solaire (MW)  Hydraulique (MW)  Pompage (MW)  \\\n",
       "count   1787316.00    1787316.00        1787316.00    1787316.00   \n",
       "mean        246.14         86.14            608.51        -65.87   \n",
       "std         412.40        209.85           1040.19        243.05   \n",
       "min          -6.00        -23.00            -14.00      -2570.00   \n",
       "25%          26.00          0.00              5.00         -1.00   \n",
       "50%         101.00          0.00             57.00          0.00   \n",
       "75%         289.00         63.00            897.00          0.00   \n",
       "max        4554.00       2392.00           8742.00          0.00   \n",
       "\n",
       "       Bioénergies (MW)  Ech. physiques (MW)  TCO Thermique (%)  \\\n",
       "count        1787316.00           1787316.00         1787316.00   \n",
       "mean              81.66              -510.03               1.33   \n",
       "std               44.55              4372.91               4.72   \n",
       "min                4.00            -12219.00              -2.54   \n",
       "25%               46.00             -4264.00               0.00   \n",
       "50%               72.00               473.00               0.00   \n",
       "75%              114.00              2229.00               0.00   \n",
       "max              404.00             13959.00              56.89   \n",
       "\n",
       "       TCO Nucléaire (%)  TCO Eolien (%)  TCO Solaire (%)  \\\n",
       "count         1787316.00      1787316.00       1787316.00   \n",
       "mean               15.09            1.66             0.54   \n",
       "std                56.66            6.26             3.03   \n",
       "min                -2.98           -0.10            -0.08   \n",
       "25%                 0.00            0.00             0.00   \n",
       "50%                 0.00            0.00             0.00   \n",
       "75%                 0.00            0.00             0.00   \n",
       "max               787.27          100.50            59.47   \n",
       "\n",
       "       TCO Hydraulique (%)  TCO Bioénergies (%)  Renouvelables (MW)  \\\n",
       "count           1787316.00           1787316.00          1787316.00   \n",
       "mean                  2.12                 0.39              956.58   \n",
       "std                   8.60                 0.90             1117.32   \n",
       "min                  -1.06                 0.00            -1280.00   \n",
       "25%                   0.00                 0.00              192.00   \n",
       "50%                   0.00                 0.00              471.00   \n",
       "75%                   0.00                 0.00             1370.00   \n",
       "max                 115.57                 7.33             9120.00   \n",
       "\n",
       "       Solde brut (MW)  Solde avec transferts (MW)  Taux Couverture (MW)  \\\n",
       "count       1787316.00                  1787316.00            1787316.00   \n",
       "mean            509.67                       -0.36                  1.22   \n",
       "std            4372.87                        5.63                  1.23   \n",
       "min          -13960.00                     -704.00                 -0.18   \n",
       "25%           -2229.00                       -1.00                  0.20   \n",
       "50%            -473.00                        0.00                  0.90   \n",
       "75%            4264.00                        0.00                  1.86   \n",
       "max           12218.00                      700.00                  8.09   \n",
       "\n",
       "       Taux Couverture Renouvelables (MW)    Weekday       Jour       Mois  \\\n",
       "count                          1787316.00 1787316.00 1787316.00 1787316.00   \n",
       "mean                                 0.20       3.00      15.72       6.35   \n",
       "std                                  0.18       2.00       8.80       3.45   \n",
       "min                                 -0.24       0.00       1.00       1.00   \n",
       "25%                                  0.06       1.00       8.00       3.00   \n",
       "50%                                  0.14       3.00      16.00       6.00   \n",
       "75%                                  0.29       5.00      23.00       9.00   \n",
       "max                                  1.31       6.00      31.00      12.00   \n",
       "\n",
       "           Année  \n",
       "count 1787316.00  \n",
       "mean     2016.76  \n",
       "std         2.46  \n",
       "min      2013.00  \n",
       "25%      2015.00  \n",
       "50%      2017.00  \n",
       "75%      2019.00  \n",
       "max      2021.00  "
      ]
     },
     "execution_count": 9,
     "metadata": {},
     "output_type": "execute_result"
    }
   ],
   "source": [
    "pd.set_option('display.float_format', lambda x: '%.2f' % x)\n",
    "df.describe()"
   ]
  },
  {
   "cell_type": "markdown",
   "id": "8f8c764b",
   "metadata": {},
   "source": [
    "### Import des données météorologiques"
   ]
  },
  {
   "cell_type": "markdown",
   "id": "18eb20b0",
   "metadata": {},
   "source": [
    "Nous allons procéder à l'import du fichier de données météo et à leur intégration. Cependant, elles ont des intervalles de 3 heures quand nos données électriques ont des intervalles de 30 minutes. Nous allons regrouper nos données électriques par intervalles de 3 heures également pour ne pas perdre d'information."
   ]
  },
  {
   "cell_type": "code",
   "execution_count": 10,
   "id": "e5e5c2a7",
   "metadata": {},
   "outputs": [],
   "source": [
    "meteo_df = pd.read_csv('rayonnement-solaire-vitesse-vent-tri-horaires-regionaux.csv', sep=';')\n",
    "meteo_df['Date - Heure'] = pd.to_datetime(meteo_df['Date'], utc=True)\n",
    "meteo_df['Date'] = meteo_df['Date - Heure'].dt.date\n",
    "meteo_df['Date'] = pd.to_datetime(meteo_df['Date'], utc=True)\n",
    "meteo_df['Hour'] = meteo_df['Date - Heure'].dt.hour\n",
    "meteo_df.sort_values(by=['Date'], inplace=True)\n",
    "meteo_df.reset_index(drop=True, inplace=True)"
   ]
  },
  {
   "cell_type": "code",
   "execution_count": 11,
   "id": "6bf96e96",
   "metadata": {},
   "outputs": [],
   "source": [
    "df.reset_index(drop=True, inplace=True)\n",
    "df['Hour'] = df['Date - Heure'].dt.hour\n",
    "df['Hour'] = df['Hour'].replace(to_replace=[1,2,4,5,7,8,10,11,13,14,16,17,19,20,22,23],\n",
    "                                value=[0,0,3,3,6,6,9,9,12,12,15,15,18,18,21,21])"
   ]
  },
  {
   "cell_type": "code",
   "execution_count": 12,
   "id": "e216ec8f",
   "metadata": {},
   "outputs": [],
   "source": [
    "temp_df = df.groupby(['Date','Hour', 'Code INSEE région']).sum().reset_index()\n",
    "temp_df['Date'] = pd.to_datetime(temp_df['Date'], utc=True)\n",
    "temp_df.drop(['Consommation (MW)', 'Thermique (MW)', 'Nucléaire (MW)', \n",
    "             'Hydraulique (MW)', 'Pompage (MW)', 'Bioénergies (MW)', 'Ech. physiques (MW)',\n",
    "             'TCO Thermique (%)', 'TCO Nucléaire (%)', 'TCO Eolien (%)', 'TCO Solaire (%)', 'TCO Hydraulique (%)',\n",
    "             'TCO Bioénergies (%)', 'Renouvelables (MW)', 'Solde brut (MW)', 'Solde avec transferts (MW)',\n",
    "             'Taux Couverture (MW)', 'Taux Couverture Renouvelables (MW)', 'Weekday', 'Jour', 'Mois', 'Année'], \n",
    "             axis=1, inplace=True)"
   ]
  },
  {
   "cell_type": "markdown",
   "id": "f0162663",
   "metadata": {},
   "source": [
    "Nous pouvons maintenant fusionner les tableaux et obtenir notre dataset."
   ]
  },
  {
   "cell_type": "code",
   "execution_count": 13,
   "id": "ba681016",
   "metadata": {},
   "outputs": [],
   "source": [
    "temp_df = temp_df.merge(right=meteo_df, on=['Date','Hour', 'Code INSEE région'], how='inner')"
   ]
  },
  {
   "cell_type": "markdown",
   "id": "1524b54f",
   "metadata": {},
   "source": [
    "Nous allons créer des dummy variables sur les variables catégorielles \"Région\", \"Heure\" et \"Mois\", supprimer les colonnes inutiles pour la régression et enfin fusionner les données quantitatives et les dummies."
   ]
  },
  {
   "cell_type": "code",
   "execution_count": 14,
   "id": "c262adf6",
   "metadata": {},
   "outputs": [],
   "source": [
    "temp_df['Mois'] = temp_df['Date'].dt.month\n",
    "\n",
    "region = pd.get_dummies(temp_df['Région'], prefix='Region').set_index(temp_df['Date - Heure'])\n",
    "heure = pd.get_dummies(temp_df['Hour'], prefix='Heure').set_index(temp_df['Date - Heure'])\n",
    "mois = pd.get_dummies(temp_df['Mois'], prefix='Mois').set_index(temp_df['Date - Heure'])\n",
    "\n",
    "temp_df.set_index(['Date - Heure'], inplace=True)\n",
    "temp_df.drop(['Date', 'Mois', 'Hour', 'Région', 'Code INSEE région'], axis=1, inplace=True)\n",
    "temp_df = pd.concat([temp_df, region], axis=1) #, drop_first=True\n",
    "temp_df = pd.concat([temp_df, heure], axis=1) #, drop_first=True\n",
    "temp_df = pd.concat([temp_df, mois], axis=1) #, drop_first=True"
   ]
  },
  {
   "cell_type": "code",
   "execution_count": 15,
   "id": "f0df2a12",
   "metadata": {},
   "outputs": [
    {
     "data": {
      "text/html": [
       "<div>\n",
       "<style scoped>\n",
       "    .dataframe tbody tr th:only-of-type {\n",
       "        vertical-align: middle;\n",
       "    }\n",
       "\n",
       "    .dataframe tbody tr th {\n",
       "        vertical-align: top;\n",
       "    }\n",
       "\n",
       "    .dataframe thead th {\n",
       "        text-align: right;\n",
       "    }\n",
       "</style>\n",
       "<table border=\"1\" class=\"dataframe\">\n",
       "  <thead>\n",
       "    <tr style=\"text-align: right;\">\n",
       "      <th></th>\n",
       "      <th>Eolien (MW)</th>\n",
       "      <th>Solaire (MW)</th>\n",
       "      <th>Vitesse du vent à 100m (m/s)</th>\n",
       "      <th>Rayonnement solaire global (W/m2)</th>\n",
       "      <th>Region_Auvergne-Rhône-Alpes</th>\n",
       "      <th>Region_Bourgogne-Franche-Comté</th>\n",
       "      <th>Region_Bretagne</th>\n",
       "      <th>Region_Centre-Val de Loire</th>\n",
       "      <th>Region_Grand Est</th>\n",
       "      <th>Region_Hauts-de-France</th>\n",
       "      <th>Region_Normandie</th>\n",
       "      <th>Region_Nouvelle-Aquitaine</th>\n",
       "      <th>Region_Occitanie</th>\n",
       "      <th>Region_Pays de la Loire</th>\n",
       "      <th>Region_Provence-Alpes-Côte d'Azur</th>\n",
       "      <th>Region_Île-de-France</th>\n",
       "      <th>Heure_0</th>\n",
       "      <th>Heure_3</th>\n",
       "      <th>Heure_6</th>\n",
       "      <th>Heure_9</th>\n",
       "      <th>Heure_12</th>\n",
       "      <th>Heure_15</th>\n",
       "      <th>Heure_18</th>\n",
       "      <th>Heure_21</th>\n",
       "      <th>Mois_1</th>\n",
       "      <th>Mois_2</th>\n",
       "      <th>Mois_3</th>\n",
       "      <th>Mois_4</th>\n",
       "      <th>Mois_5</th>\n",
       "      <th>Mois_6</th>\n",
       "      <th>Mois_7</th>\n",
       "      <th>Mois_8</th>\n",
       "      <th>Mois_9</th>\n",
       "      <th>Mois_10</th>\n",
       "      <th>Mois_11</th>\n",
       "      <th>Mois_12</th>\n",
       "    </tr>\n",
       "    <tr>\n",
       "      <th>Date - Heure</th>\n",
       "      <th></th>\n",
       "      <th></th>\n",
       "      <th></th>\n",
       "      <th></th>\n",
       "      <th></th>\n",
       "      <th></th>\n",
       "      <th></th>\n",
       "      <th></th>\n",
       "      <th></th>\n",
       "      <th></th>\n",
       "      <th></th>\n",
       "      <th></th>\n",
       "      <th></th>\n",
       "      <th></th>\n",
       "      <th></th>\n",
       "      <th></th>\n",
       "      <th></th>\n",
       "      <th></th>\n",
       "      <th></th>\n",
       "      <th></th>\n",
       "      <th></th>\n",
       "      <th></th>\n",
       "      <th></th>\n",
       "      <th></th>\n",
       "      <th></th>\n",
       "      <th></th>\n",
       "      <th></th>\n",
       "      <th></th>\n",
       "      <th></th>\n",
       "      <th></th>\n",
       "      <th></th>\n",
       "      <th></th>\n",
       "      <th></th>\n",
       "      <th></th>\n",
       "      <th></th>\n",
       "      <th></th>\n",
       "    </tr>\n",
       "  </thead>\n",
       "  <tbody>\n",
       "    <tr>\n",
       "      <th>2016-01-01 03:00:00+00:00</th>\n",
       "      <td>17.00</td>\n",
       "      <td>0.00</td>\n",
       "      <td>9.43</td>\n",
       "      <td>0.00</td>\n",
       "      <td>0</td>\n",
       "      <td>0</td>\n",
       "      <td>0</td>\n",
       "      <td>0</td>\n",
       "      <td>0</td>\n",
       "      <td>0</td>\n",
       "      <td>0</td>\n",
       "      <td>0</td>\n",
       "      <td>0</td>\n",
       "      <td>0</td>\n",
       "      <td>0</td>\n",
       "      <td>1</td>\n",
       "      <td>0</td>\n",
       "      <td>1</td>\n",
       "      <td>0</td>\n",
       "      <td>0</td>\n",
       "      <td>0</td>\n",
       "      <td>0</td>\n",
       "      <td>0</td>\n",
       "      <td>0</td>\n",
       "      <td>1</td>\n",
       "      <td>0</td>\n",
       "      <td>0</td>\n",
       "      <td>0</td>\n",
       "      <td>0</td>\n",
       "      <td>0</td>\n",
       "      <td>0</td>\n",
       "      <td>0</td>\n",
       "      <td>0</td>\n",
       "      <td>0</td>\n",
       "      <td>0</td>\n",
       "      <td>0</td>\n",
       "    </tr>\n",
       "    <tr>\n",
       "      <th>2016-01-01 03:00:00+00:00</th>\n",
       "      <td>678.00</td>\n",
       "      <td>0.00</td>\n",
       "      <td>9.22</td>\n",
       "      <td>0.00</td>\n",
       "      <td>0</td>\n",
       "      <td>0</td>\n",
       "      <td>0</td>\n",
       "      <td>1</td>\n",
       "      <td>0</td>\n",
       "      <td>0</td>\n",
       "      <td>0</td>\n",
       "      <td>0</td>\n",
       "      <td>0</td>\n",
       "      <td>0</td>\n",
       "      <td>0</td>\n",
       "      <td>0</td>\n",
       "      <td>0</td>\n",
       "      <td>1</td>\n",
       "      <td>0</td>\n",
       "      <td>0</td>\n",
       "      <td>0</td>\n",
       "      <td>0</td>\n",
       "      <td>0</td>\n",
       "      <td>0</td>\n",
       "      <td>1</td>\n",
       "      <td>0</td>\n",
       "      <td>0</td>\n",
       "      <td>0</td>\n",
       "      <td>0</td>\n",
       "      <td>0</td>\n",
       "      <td>0</td>\n",
       "      <td>0</td>\n",
       "      <td>0</td>\n",
       "      <td>0</td>\n",
       "      <td>0</td>\n",
       "      <td>0</td>\n",
       "    </tr>\n",
       "    <tr>\n",
       "      <th>2016-01-01 03:00:00+00:00</th>\n",
       "      <td>113.00</td>\n",
       "      <td>0.00</td>\n",
       "      <td>7.12</td>\n",
       "      <td>0.00</td>\n",
       "      <td>0</td>\n",
       "      <td>1</td>\n",
       "      <td>0</td>\n",
       "      <td>0</td>\n",
       "      <td>0</td>\n",
       "      <td>0</td>\n",
       "      <td>0</td>\n",
       "      <td>0</td>\n",
       "      <td>0</td>\n",
       "      <td>0</td>\n",
       "      <td>0</td>\n",
       "      <td>0</td>\n",
       "      <td>0</td>\n",
       "      <td>1</td>\n",
       "      <td>0</td>\n",
       "      <td>0</td>\n",
       "      <td>0</td>\n",
       "      <td>0</td>\n",
       "      <td>0</td>\n",
       "      <td>0</td>\n",
       "      <td>1</td>\n",
       "      <td>0</td>\n",
       "      <td>0</td>\n",
       "      <td>0</td>\n",
       "      <td>0</td>\n",
       "      <td>0</td>\n",
       "      <td>0</td>\n",
       "      <td>0</td>\n",
       "      <td>0</td>\n",
       "      <td>0</td>\n",
       "      <td>0</td>\n",
       "      <td>0</td>\n",
       "    </tr>\n",
       "    <tr>\n",
       "      <th>2016-01-01 03:00:00+00:00</th>\n",
       "      <td>172.00</td>\n",
       "      <td>0.00</td>\n",
       "      <td>11.15</td>\n",
       "      <td>0.00</td>\n",
       "      <td>0</td>\n",
       "      <td>0</td>\n",
       "      <td>0</td>\n",
       "      <td>0</td>\n",
       "      <td>0</td>\n",
       "      <td>0</td>\n",
       "      <td>1</td>\n",
       "      <td>0</td>\n",
       "      <td>0</td>\n",
       "      <td>0</td>\n",
       "      <td>0</td>\n",
       "      <td>0</td>\n",
       "      <td>0</td>\n",
       "      <td>1</td>\n",
       "      <td>0</td>\n",
       "      <td>0</td>\n",
       "      <td>0</td>\n",
       "      <td>0</td>\n",
       "      <td>0</td>\n",
       "      <td>0</td>\n",
       "      <td>1</td>\n",
       "      <td>0</td>\n",
       "      <td>0</td>\n",
       "      <td>0</td>\n",
       "      <td>0</td>\n",
       "      <td>0</td>\n",
       "      <td>0</td>\n",
       "      <td>0</td>\n",
       "      <td>0</td>\n",
       "      <td>0</td>\n",
       "      <td>0</td>\n",
       "      <td>0</td>\n",
       "    </tr>\n",
       "    <tr>\n",
       "      <th>2016-01-01 03:00:00+00:00</th>\n",
       "      <td>832.00</td>\n",
       "      <td>0.00</td>\n",
       "      <td>9.60</td>\n",
       "      <td>0.00</td>\n",
       "      <td>0</td>\n",
       "      <td>0</td>\n",
       "      <td>0</td>\n",
       "      <td>0</td>\n",
       "      <td>0</td>\n",
       "      <td>1</td>\n",
       "      <td>0</td>\n",
       "      <td>0</td>\n",
       "      <td>0</td>\n",
       "      <td>0</td>\n",
       "      <td>0</td>\n",
       "      <td>0</td>\n",
       "      <td>0</td>\n",
       "      <td>1</td>\n",
       "      <td>0</td>\n",
       "      <td>0</td>\n",
       "      <td>0</td>\n",
       "      <td>0</td>\n",
       "      <td>0</td>\n",
       "      <td>0</td>\n",
       "      <td>1</td>\n",
       "      <td>0</td>\n",
       "      <td>0</td>\n",
       "      <td>0</td>\n",
       "      <td>0</td>\n",
       "      <td>0</td>\n",
       "      <td>0</td>\n",
       "      <td>0</td>\n",
       "      <td>0</td>\n",
       "      <td>0</td>\n",
       "      <td>0</td>\n",
       "      <td>0</td>\n",
       "    </tr>\n",
       "  </tbody>\n",
       "</table>\n",
       "</div>"
      ],
      "text/plain": [
       "                           Eolien (MW)  Solaire (MW)  \\\n",
       "Date - Heure                                           \n",
       "2016-01-01 03:00:00+00:00        17.00          0.00   \n",
       "2016-01-01 03:00:00+00:00       678.00          0.00   \n",
       "2016-01-01 03:00:00+00:00       113.00          0.00   \n",
       "2016-01-01 03:00:00+00:00       172.00          0.00   \n",
       "2016-01-01 03:00:00+00:00       832.00          0.00   \n",
       "\n",
       "                           Vitesse du vent à 100m (m/s)  \\\n",
       "Date - Heure                                              \n",
       "2016-01-01 03:00:00+00:00                          9.43   \n",
       "2016-01-01 03:00:00+00:00                          9.22   \n",
       "2016-01-01 03:00:00+00:00                          7.12   \n",
       "2016-01-01 03:00:00+00:00                         11.15   \n",
       "2016-01-01 03:00:00+00:00                          9.60   \n",
       "\n",
       "                           Rayonnement solaire global (W/m2)  \\\n",
       "Date - Heure                                                   \n",
       "2016-01-01 03:00:00+00:00                               0.00   \n",
       "2016-01-01 03:00:00+00:00                               0.00   \n",
       "2016-01-01 03:00:00+00:00                               0.00   \n",
       "2016-01-01 03:00:00+00:00                               0.00   \n",
       "2016-01-01 03:00:00+00:00                               0.00   \n",
       "\n",
       "                           Region_Auvergne-Rhône-Alpes  \\\n",
       "Date - Heure                                             \n",
       "2016-01-01 03:00:00+00:00                            0   \n",
       "2016-01-01 03:00:00+00:00                            0   \n",
       "2016-01-01 03:00:00+00:00                            0   \n",
       "2016-01-01 03:00:00+00:00                            0   \n",
       "2016-01-01 03:00:00+00:00                            0   \n",
       "\n",
       "                           Region_Bourgogne-Franche-Comté  Region_Bretagne  \\\n",
       "Date - Heure                                                                 \n",
       "2016-01-01 03:00:00+00:00                               0                0   \n",
       "2016-01-01 03:00:00+00:00                               0                0   \n",
       "2016-01-01 03:00:00+00:00                               1                0   \n",
       "2016-01-01 03:00:00+00:00                               0                0   \n",
       "2016-01-01 03:00:00+00:00                               0                0   \n",
       "\n",
       "                           Region_Centre-Val de Loire  Region_Grand Est  \\\n",
       "Date - Heure                                                              \n",
       "2016-01-01 03:00:00+00:00                           0                 0   \n",
       "2016-01-01 03:00:00+00:00                           1                 0   \n",
       "2016-01-01 03:00:00+00:00                           0                 0   \n",
       "2016-01-01 03:00:00+00:00                           0                 0   \n",
       "2016-01-01 03:00:00+00:00                           0                 0   \n",
       "\n",
       "                           Region_Hauts-de-France  Region_Normandie  \\\n",
       "Date - Heure                                                          \n",
       "2016-01-01 03:00:00+00:00                       0                 0   \n",
       "2016-01-01 03:00:00+00:00                       0                 0   \n",
       "2016-01-01 03:00:00+00:00                       0                 0   \n",
       "2016-01-01 03:00:00+00:00                       0                 1   \n",
       "2016-01-01 03:00:00+00:00                       1                 0   \n",
       "\n",
       "                           Region_Nouvelle-Aquitaine  Region_Occitanie  \\\n",
       "Date - Heure                                                             \n",
       "2016-01-01 03:00:00+00:00                          0                 0   \n",
       "2016-01-01 03:00:00+00:00                          0                 0   \n",
       "2016-01-01 03:00:00+00:00                          0                 0   \n",
       "2016-01-01 03:00:00+00:00                          0                 0   \n",
       "2016-01-01 03:00:00+00:00                          0                 0   \n",
       "\n",
       "                           Region_Pays de la Loire  \\\n",
       "Date - Heure                                         \n",
       "2016-01-01 03:00:00+00:00                        0   \n",
       "2016-01-01 03:00:00+00:00                        0   \n",
       "2016-01-01 03:00:00+00:00                        0   \n",
       "2016-01-01 03:00:00+00:00                        0   \n",
       "2016-01-01 03:00:00+00:00                        0   \n",
       "\n",
       "                           Region_Provence-Alpes-Côte d'Azur  \\\n",
       "Date - Heure                                                   \n",
       "2016-01-01 03:00:00+00:00                                  0   \n",
       "2016-01-01 03:00:00+00:00                                  0   \n",
       "2016-01-01 03:00:00+00:00                                  0   \n",
       "2016-01-01 03:00:00+00:00                                  0   \n",
       "2016-01-01 03:00:00+00:00                                  0   \n",
       "\n",
       "                           Region_Île-de-France  Heure_0  Heure_3  Heure_6  \\\n",
       "Date - Heure                                                                 \n",
       "2016-01-01 03:00:00+00:00                     1        0        1        0   \n",
       "2016-01-01 03:00:00+00:00                     0        0        1        0   \n",
       "2016-01-01 03:00:00+00:00                     0        0        1        0   \n",
       "2016-01-01 03:00:00+00:00                     0        0        1        0   \n",
       "2016-01-01 03:00:00+00:00                     0        0        1        0   \n",
       "\n",
       "                           Heure_9  Heure_12  Heure_15  Heure_18  Heure_21  \\\n",
       "Date - Heure                                                                 \n",
       "2016-01-01 03:00:00+00:00        0         0         0         0         0   \n",
       "2016-01-01 03:00:00+00:00        0         0         0         0         0   \n",
       "2016-01-01 03:00:00+00:00        0         0         0         0         0   \n",
       "2016-01-01 03:00:00+00:00        0         0         0         0         0   \n",
       "2016-01-01 03:00:00+00:00        0         0         0         0         0   \n",
       "\n",
       "                           Mois_1  Mois_2  Mois_3  Mois_4  Mois_5  Mois_6  \\\n",
       "Date - Heure                                                                \n",
       "2016-01-01 03:00:00+00:00       1       0       0       0       0       0   \n",
       "2016-01-01 03:00:00+00:00       1       0       0       0       0       0   \n",
       "2016-01-01 03:00:00+00:00       1       0       0       0       0       0   \n",
       "2016-01-01 03:00:00+00:00       1       0       0       0       0       0   \n",
       "2016-01-01 03:00:00+00:00       1       0       0       0       0       0   \n",
       "\n",
       "                           Mois_7  Mois_8  Mois_9  Mois_10  Mois_11  Mois_12  \n",
       "Date - Heure                                                                  \n",
       "2016-01-01 03:00:00+00:00       0       0       0        0        0        0  \n",
       "2016-01-01 03:00:00+00:00       0       0       0        0        0        0  \n",
       "2016-01-01 03:00:00+00:00       0       0       0        0        0        0  \n",
       "2016-01-01 03:00:00+00:00       0       0       0        0        0        0  \n",
       "2016-01-01 03:00:00+00:00       0       0       0        0        0        0  "
      ]
     },
     "execution_count": 15,
     "metadata": {},
     "output_type": "execute_result"
    }
   ],
   "source": [
    "temp_df.head()"
   ]
  },
  {
   "cell_type": "markdown",
   "id": "9efef84e",
   "metadata": {},
   "source": [
    "Enfin, nous créons le set de data et de target en supprimant une modalité des dummy variables pour éviter les colinéarités entre variables."
   ]
  },
  {
   "cell_type": "code",
   "execution_count": 16,
   "id": "9c813e17",
   "metadata": {},
   "outputs": [],
   "source": [
    "data = temp_df.drop(['Eolien (MW)', 'Solaire (MW)', 'Region_Bretagne', 'Heure_0', 'Mois_3'], axis=1)\n",
    "target = temp_df['Eolien (MW)']"
   ]
  },
  {
   "cell_type": "markdown",
   "id": "059f6f26",
   "metadata": {},
   "source": [
    "Et nous terminons en créant un set d'entraînement et de test en les mettant à l'échelle."
   ]
  },
  {
   "cell_type": "code",
   "execution_count": 17,
   "id": "6c899196",
   "metadata": {},
   "outputs": [],
   "source": [
    "X_train, X_test, y_train, y_test = train_test_split(data, target, test_size=0.2)"
   ]
  },
  {
   "cell_type": "code",
   "execution_count": 18,
   "id": "79b9a856",
   "metadata": {},
   "outputs": [],
   "source": [
    "scaler = preprocessing.StandardScaler().fit(X_train)\n",
    "X_train = scaler.transform(X_train)\n",
    "X_test = scaler.transform(X_test)"
   ]
  },
  {
   "cell_type": "markdown",
   "id": "75640021",
   "metadata": {},
   "source": [
    "# Modèle de régression pour la production d'énergie éolienne"
   ]
  },
  {
   "cell_type": "markdown",
   "id": "569a2398",
   "metadata": {},
   "source": [
    "Nous allons commencer en regardant les corrélations entre variables."
   ]
  },
  {
   "cell_type": "code",
   "execution_count": 19,
   "id": "a1569ae6",
   "metadata": {},
   "outputs": [
    {
     "data": {
      "image/png": "[encoded data removed]",
      "text/plain": [
       "<Figure size 1080x720 with 2 Axes>"
      ]
     },
     "metadata": {
      "needs_background": "light"
     },
     "output_type": "display_data"
    }
   ],
   "source": [
    "plt.figure(figsize=(15,10))\n",
    "sns.heatmap(temp_df.corr(), annot=False, center=0, cmap='viridis');"
   ]
  },
  {
   "cell_type": "markdown",
   "id": "b8b65906",
   "metadata": {},
   "source": [
    "Cela nous permet de vérifier assez rapidement quelques hypothèses qui vont être essentielles pour nos modèles:\n",
    "- la vitesse du vent est corrélée avec la production éolienne\n",
    "- certaines régions sont plus propices à la production éolienne que d'autres\n",
    "- l'heure n'a pas d'influence sur la production éolienne (logique)\n",
    "- le mois de l'année peut lui peut-être jouer avec une plus forte corrélation avec les mois d'hiver. On remarque d'ailleurs la corrélation entre vitesse du vent et mois d'hiver\n",
    "\n",
    "\n",
    "**Accessoirement, on remarque que les régions avec la corrélation avec la vitesse du vent constatée la plus élevée ne sont pas les régions où il y a le plus de production éolienne, ce qui fait émerger des questions sur le positionnement du parc éolien français.**"
   ]
  },
  {
   "cell_type": "markdown",
   "id": "460b4dee",
   "metadata": {},
   "source": [
    "### Premier modèle simple: la régression linéaire"
   ]
  },
  {
   "cell_type": "markdown",
   "id": "acaaa81f",
   "metadata": {},
   "source": [
    "Nous allons procéder à la première analyse de régression avec une régression simple visant à prévoir la production éolienne en fonction de l'heure, des paramètres météorologiques et de la région."
   ]
  },
  {
   "cell_type": "code",
   "execution_count": 20,
   "id": "d9e2d5b8",
   "metadata": {},
   "outputs": [
    {
     "data": {
      "text/plain": [
       "LinearRegression()"
      ]
     },
     "execution_count": 20,
     "metadata": {},
     "output_type": "execute_result"
    }
   ],
   "source": [
    "lr_model = LinearRegression()\n",
    "lr_model.fit(X_train, y_train)"
   ]
  },
  {
   "cell_type": "markdown",
   "id": "4482425f",
   "metadata": {},
   "source": [
    "Voici les scores de cette première régression:"
   ]
  },
  {
   "cell_type": "code",
   "execution_count": 21,
   "id": "a7cd8007",
   "metadata": {},
   "outputs": [
    {
     "name": "stdout",
     "output_type": "stream",
     "text": [
      "Score train : 0.45441967130507843\n",
      "Score test : 0.45013545183707937 \n",
      "\n",
      "rmse train : 2048.691023444005\n",
      "rmse test :  2049.7173867820397\n"
     ]
    }
   ],
   "source": [
    "print('Score train :',lr_model.score(X_train, y_train))\n",
    "print('Score test :', lr_model.score(X_test, y_test), '\\n')\n",
    "\n",
    "pred = lr_model.predict(X_train)\n",
    "pred_test = lr_model.predict(X_test)\n",
    "print('rmse train :', np.sqrt(mean_squared_error(y_train, pred)))\n",
    "print('rmse test : ', np.sqrt(mean_squared_error(y_test, pred_test)))"
   ]
  },
  {
   "cell_type": "markdown",
   "id": "9dac24f0",
   "metadata": {},
   "source": [
    "Nous allons construire quelques graphiques pour visualiser le résultat du modèle."
   ]
  },
  {
   "cell_type": "code",
   "execution_count": 22,
   "id": "15cec24c",
   "metadata": {},
   "outputs": [
    {
     "data": {
      "image/png": "[encoded data removed]",
      "text/plain": [
       "<Figure size 432x288 with 1 Axes>"
      ]
     },
     "metadata": {
      "needs_background": "light"
     },
     "output_type": "display_data"
    }
   ],
   "source": [
    "plt.scatter(pred_test, y_test)\n",
    "plt.plot((y_test.min(), y_test.max()), (y_test.min(), y_test.max()))\n",
    "plt.xlabel('Prédiction')\n",
    "plt.ylabel('Réel');"
   ]
  },
  {
   "cell_type": "markdown",
   "id": "430942bc",
   "metadata": {},
   "source": [
    "On constate très clairement avec ce graphique que la qualité de la régrssion est faible avec des valeurs très éloignées de la répartition attendue des données."
   ]
  },
  {
   "cell_type": "code",
   "execution_count": 23,
   "id": "933f5bc9",
   "metadata": {},
   "outputs": [
    {
     "data": {
      "image/png": "[encoded data removed]",
      "text/plain": [
       "<Figure size 432x288 with 1 Axes>"
      ]
     },
     "metadata": {
      "needs_background": "light"
     },
     "output_type": "display_data"
    }
   ],
   "source": [
    "residus = pred-y_train\n",
    "plt.scatter(y_train, residus, color='#980a10', s=15)\n",
    "plt.plot((y_train.min(), y_train.max()), (0, 0), lw=3, color='#0a5798')\n",
    "plt.xlabel('Valeur réelle')\n",
    "plt.ylabel('Résidus');\n",
    "plt.show();"
   ]
  },
  {
   "cell_type": "code",
   "execution_count": 24,
   "id": "02e80589",
   "metadata": {},
   "outputs": [
    {
     "data": {
      "image/png": "[encoded data removed]",
      "text/plain": [
       "<Figure size 432x288 with 1 Axes>"
      ]
     },
     "metadata": {
      "needs_background": "light"
     },
     "output_type": "display_data"
    }
   ],
   "source": [
    "residus_norm = (residus - residus.mean()) / residus.std()\n",
    "\n",
    "scipy.stats.probplot(residus_norm, plot=plt)\n",
    "plt.show();"
   ]
  },
  {
   "cell_type": "markdown",
   "id": "33ba0b35",
   "metadata": {},
   "source": [
    "Avec ces deux derniers graphiques, nous pouvons voir que les résidus ne sont pas aléatoires (le premier, en fonction de la valeur réelle, le second en fonction des quantiles théoriques).\n",
    "\n",
    "**Il est absolument impératif d'améliorer ce modèle.**"
   ]
  },
  {
   "cell_type": "markdown",
   "id": "d9e5a3bd",
   "metadata": {},
   "source": [
    "### Second modèle: la régression polynomiale"
   ]
  },
  {
   "cell_type": "markdown",
   "id": "a36a162d",
   "metadata": {},
   "source": [
    "Nous allons appliquer une régression polynamiale d'ordre 2 et vérifier si cela améliore les performances de notre modèle."
   ]
  },
  {
   "cell_type": "code",
   "execution_count": 25,
   "id": "a5e6599b",
   "metadata": {},
   "outputs": [
    {
     "data": {
      "text/plain": [
       "LinearRegression()"
      ]
     },
     "execution_count": 25,
     "metadata": {},
     "output_type": "execute_result"
    }
   ],
   "source": [
    "from sklearn.preprocessing import PolynomialFeatures\n",
    "poly = PolynomialFeatures(degree=2)\n",
    "X_train_poly = poly.fit_transform(X_train)\n",
    "X_test_poly = poly.transform(X_test)\n",
    "\n",
    "poly_model = LinearRegression()\n",
    "poly_model.fit(X_train_poly, y_train)"
   ]
  },
  {
   "cell_type": "code",
   "execution_count": 26,
   "id": "a95bdc0c",
   "metadata": {},
   "outputs": [
    {
     "name": "stdout",
     "output_type": "stream",
     "text": [
      "Score train : 0.582864133511044\n",
      "Score test : 0.577953242359194 \n",
      "\n",
      "rmse train : 1791.3724038849095\n",
      "rmse test :  1795.752208147094\n"
     ]
    }
   ],
   "source": [
    "print('Score train :', poly_model.score(X_train_poly, y_train))\n",
    "print('Score test :', poly_model.score(X_test_poly, y_test), '\\n')\n",
    "\n",
    "pred = poly_model.predict(X_train_poly)\n",
    "pred_test = poly_model.predict(X_test_poly)\n",
    "print('rmse train :', np.sqrt(mean_squared_error(y_train, pred)))\n",
    "print('rmse test : ', np.sqrt(mean_squared_error(y_test, pred_test)))"
   ]
  },
  {
   "cell_type": "markdown",
   "id": "ffeb37e8",
   "metadata": {},
   "source": [
    "Nous avons très clairement de meilleures performances avec un overfitting limité. Voici la visualisation des prédictions et des résidus."
   ]
  },
  {
   "cell_type": "code",
   "execution_count": 27,
   "id": "fc010d82",
   "metadata": {},
   "outputs": [
    {
     "data": {
      "image/png": "[encoded data removed]",
      "text/plain": [
       "<Figure size 432x288 with 1 Axes>"
      ]
     },
     "metadata": {
      "needs_background": "light"
     },
     "output_type": "display_data"
    }
   ],
   "source": [
    "plt.scatter(pred_test, y_test)\n",
    "plt.plot((y_test.min(), y_test.max()), (y_test.min(), y_test.max()))\n",
    "plt.xlabel('Prédiction')\n",
    "plt.ylabel('Réel');"
   ]
  },
  {
   "cell_type": "code",
   "execution_count": 28,
   "id": "ed1c3e0e",
   "metadata": {},
   "outputs": [
    {
     "data": {
      "image/png": "[encoded data removed]",
      "text/plain": [
       "<Figure size 432x288 with 1 Axes>"
      ]
     },
     "metadata": {
      "needs_background": "light"
     },
     "output_type": "display_data"
    }
   ],
   "source": [
    "residus = pred-y_train\n",
    "plt.scatter(y_train, residus, color='#980a10', s=15)\n",
    "plt.plot((y_train.min(), y_train.max()), (0, 0), lw=3, color='#0a5798')\n",
    "plt.xlabel('Valeur réelle')\n",
    "plt.ylabel('Résidus');\n",
    "plt.show();"
   ]
  },
  {
   "cell_type": "markdown",
   "id": "d2c42333",
   "metadata": {},
   "source": [
    "### Troisième modèle: la régression avec sélections des variables pertinentes"
   ]
  },
  {
   "cell_type": "markdown",
   "id": "b289e970",
   "metadata": {},
   "source": [
    "Maintenant que nous avons une première base de comparaison, nous allons améliorer le modèle en procédant à une sélection des variables explicatives grâce à SelectKBest."
   ]
  },
  {
   "cell_type": "code",
   "execution_count": 29,
   "id": "3ec23438",
   "metadata": {},
   "outputs": [
    {
     "data": {
      "image/png": "[encoded data removed]",
      "text/plain": [
       "<Figure size 1152x432 with 2 Axes>"
      ]
     },
     "metadata": {
      "needs_background": "light"
     },
     "output_type": "display_data"
    }
   ],
   "source": [
    "r2_train = []\n",
    "r2_test = []\n",
    "rmse_train = []\n",
    "rmse_test = []\n",
    "\n",
    "for k in range(1,26):\n",
    "    sk = SelectKBest(f_regression, k=k)\n",
    "    sk.fit(X=data, y=target)\n",
    "    sk_train = sk.transform(X_train)\n",
    "    sk_test = sk.transform(X_test)\n",
    "    sklr = LinearRegression()\n",
    "    sklr.fit(sk_train, y_train)\n",
    "    r2_train.append(sklr.score(sk_train, y_train))\n",
    "    r2_test.append(sklr.score(sk_test, y_test))\n",
    "    pred = sklr.predict(sk_train)\n",
    "    pred_test = sklr.predict(sk_test)\n",
    "    rmse_train.append(np.sqrt(mean_squared_error(y_train, pred)))\n",
    "    rmse_test.append(np.sqrt(mean_squared_error(y_test, pred_test)))\n",
    "    \n",
    "fig = plt.figure(figsize=(16,6))\n",
    "ax1 = fig.add_subplot(121)\n",
    "ax2 = fig.add_subplot(122)\n",
    "ax1.plot(range(1,26), r2_train, label='R² train', color='blue', marker='x')\n",
    "ax1.plot(range(1,26), r2_test, label='R² test', color='red', marker='x')\n",
    "ax1.legend()\n",
    "ax1.set_title('R² score avec sélection des variables')\n",
    "ax1.set_xlabel('Nombre de variables k')\n",
    "ax1.set_ylabel('R² score')\n",
    "                     \n",
    "ax2.plot(range(1,26), rmse_train, label='rmse train', color='blue', linestyle=':', marker='x')\n",
    "ax2.plot(range(1,26), rmse_test, label='rmse test', color='red', linestyle=':', marker='x')\n",
    "ax2.legend()\n",
    "ax2.set_title('rmse avec sélection des variables')\n",
    "ax2.set_xlabel('Nombre de variables k')\n",
    "ax2.set_ylabel('rmse')                   \n",
    "                     \n",
    "plt.show();"
   ]
  },
  {
   "cell_type": "markdown",
   "id": "14c09a84",
   "metadata": {},
   "source": [
    "Nous pouvons constater que nous retombons sur des niveaux de R² et rmse assez comparables au modèle simple sans sélection.\n",
    "Ce n'est pas satisfaisant, il faudra passer à d'autres modèles. Cependant, le nombre de variables optimal dans ce contexte pourrait être 3, 6 ou 16. Quelles sont les variables associées à ces sélections?"
   ]
  },
  {
   "cell_type": "code",
   "execution_count": 30,
   "id": "58df353a",
   "metadata": {},
   "outputs": [
    {
     "name": "stdout",
     "output_type": "stream",
     "text": [
      "Vitesse du vent à 100m (m/s)\n",
      "Region_Grand Est\n",
      "Region_Hauts-de-France\n"
     ]
    }
   ],
   "source": [
    "sk = SelectKBest(f_regression, k=3)\n",
    "sk.fit(X=data, y=target)\n",
    "var_list3 = data.columns[sk.get_support()]\n",
    "for i in var_list3:\n",
    "    print(i)"
   ]
  },
  {
   "cell_type": "code",
   "execution_count": 31,
   "id": "ae67c9d5",
   "metadata": {},
   "outputs": [
    {
     "name": "stdout",
     "output_type": "stream",
     "text": [
      "Vitesse du vent à 100m (m/s)\n",
      "Region_Auvergne-Rhône-Alpes\n",
      "Region_Grand Est\n",
      "Region_Hauts-de-France\n",
      "Region_Provence-Alpes-Côte d'Azur\n",
      "Region_Île-de-France\n"
     ]
    }
   ],
   "source": [
    "sk = SelectKBest(f_regression, k=6)\n",
    "sk.fit(X=data, y=target)\n",
    "var_list6 = data.columns[sk.get_support()]\n",
    "for i in var_list6:\n",
    "    print(i)"
   ]
  },
  {
   "cell_type": "code",
   "execution_count": 32,
   "id": "3c18fc55",
   "metadata": {},
   "outputs": [
    {
     "name": "stdout",
     "output_type": "stream",
     "text": [
      "Vitesse du vent à 100m (m/s)\n",
      "Rayonnement solaire global (W/m2)\n",
      "Region_Auvergne-Rhône-Alpes\n",
      "Region_Bourgogne-Franche-Comté\n",
      "Region_Grand Est\n",
      "Region_Hauts-de-France\n",
      "Region_Normandie\n",
      "Region_Occitanie\n",
      "Region_Provence-Alpes-Côte d'Azur\n",
      "Region_Île-de-France\n",
      "Mois_1\n",
      "Mois_2\n",
      "Mois_6\n",
      "Mois_7\n",
      "Mois_8\n",
      "Mois_12\n"
     ]
    }
   ],
   "source": [
    "sk = SelectKBest(f_regression, k=16)\n",
    "sk.fit(X=data, y=target)\n",
    "var_list16 = data.columns[sk.get_support()]\n",
    "for i in var_list16:\n",
    "    print(i)"
   ]
  },
  {
   "cell_type": "markdown",
   "id": "f7d218ee",
   "metadata": {},
   "source": [
    "Nous devons donc passer sur des modèles plus élaborés car la qualité de ces régressions n'est pas satisfaisante. Nous pouvons malgré tout garder les sets de variables optimaux pour une future utilisation.\n",
    "\n",
    "Nous pouvons d'ailleurs remarquer que le set de 16 variables est assez simple à interpréter. Il contient:\n",
    "- les conditions météorologiques\n",
    "- les régions les plus ou les moins productrices d'énergie éolienne\n",
    "- les mois d'été\n",
    "- les mois d'hiver"
   ]
  },
  {
   "cell_type": "markdown",
   "id": "61d7436b",
   "metadata": {},
   "source": [
    "### Quatrième modèle: Ridge, Lasso"
   ]
  },
  {
   "cell_type": "markdown",
   "id": "6834db7c",
   "metadata": {},
   "source": [
    "Les modèles Lasso ou Ridge permettent d'être plus efficaces dans les régressions. Nous allons maintenant les tester."
   ]
  },
  {
   "cell_type": "markdown",
   "id": "1469ec0c",
   "metadata": {},
   "source": [
    "Nous allons utiliser une cross validation ridge avec des alphas allant de 0.001 à 100."
   ]
  },
  {
   "cell_type": "code",
   "execution_count": 33,
   "id": "058bb53b",
   "metadata": {},
   "outputs": [
    {
     "data": {
      "text/plain": [
       "RidgeCV(alphas=array([1.e-03, 1.e-02, 1.e-01, 3.e-01, 7.e-01, 1.e+00, 1.e+01, 3.e+01,\n",
       "       5.e+01, 1.e+02]))"
      ]
     },
     "execution_count": 33,
     "metadata": {},
     "output_type": "execute_result"
    }
   ],
   "source": [
    "from sklearn.linear_model import RidgeCV\n",
    "\n",
    "ridge_reg = RidgeCV(alphas=(0.001,0.01,0.1,0.3,0.7,1,10,30,50,100))\n",
    "ridge_reg.fit(X_train, y_train)"
   ]
  },
  {
   "cell_type": "markdown",
   "id": "b78c8f6b",
   "metadata": {},
   "source": [
    "Voici l'alpha optimal et les scores de ce modèle:"
   ]
  },
  {
   "cell_type": "code",
   "execution_count": 34,
   "id": "af4cd752",
   "metadata": {},
   "outputs": [
    {
     "name": "stdout",
     "output_type": "stream",
     "text": [
      "Alpha: 10.0\n",
      "R² Score train: 0.4544196525050712\n",
      "R² Score test: 0.4501355322283721\n"
     ]
    }
   ],
   "source": [
    "print(f'Alpha: {ridge_reg.alpha_}')\n",
    "print(f'R² Score train: {ridge_reg.score(X_train, y_train)}')\n",
    "print(f'R² Score test: {ridge_reg.score(X_test, y_test)}')"
   ]
  },
  {
   "cell_type": "markdown",
   "id": "0db1660c",
   "metadata": {},
   "source": [
    "Malheureusement, les coefficients de détermination ne sont encore une fois pas excellents. Testons Lasso."
   ]
  },
  {
   "cell_type": "code",
   "execution_count": 35,
   "id": "88406e95",
   "metadata": {},
   "outputs": [
    {
     "data": {
      "text/plain": [
       "LassoCV(cv=10)"
      ]
     },
     "execution_count": 35,
     "metadata": {},
     "output_type": "execute_result"
    }
   ],
   "source": [
    "from sklearn.linear_model import LassoCV\n",
    "\n",
    "lasso_reg = LassoCV(cv=10)\n",
    "lasso_reg.fit(X_train, y_train)"
   ]
  },
  {
   "cell_type": "code",
   "execution_count": 36,
   "id": "f333e140",
   "metadata": {},
   "outputs": [
    {
     "name": "stdout",
     "output_type": "stream",
     "text": [
      "Alpha: 1.1280228252368578\n",
      "R² Score train: 0.4543938576903127\n",
      "R² Score test: 0.4501218780864893\n"
     ]
    }
   ],
   "source": [
    "print(f'Alpha: {lasso_reg.alpha_}')\n",
    "print(f'R² Score train: {lasso_reg.score(X_train, y_train)}')\n",
    "print(f'R² Score test: {lasso_reg.score(X_test, y_test)}')"
   ]
  },
  {
   "cell_type": "markdown",
   "id": "b8dd9bd7",
   "metadata": {},
   "source": [
    "Nous nous retrouvons dans la même situations avec des résultats peu probants. Par curiosité, examinons les coefficients de la régression:"
   ]
  },
  {
   "cell_type": "code",
   "execution_count": 37,
   "id": "f4eba949",
   "metadata": {},
   "outputs": [
    {
     "data": {
      "image/png": "[encoded data removed]",
      "text/plain": [
       "<Figure size 432x288 with 1 Axes>"
      ]
     },
     "metadata": {
      "needs_background": "light"
     },
     "output_type": "display_data"
    }
   ],
   "source": [
    "coef = pd.DataFrame({\"Coeffs\": lasso_reg.coef_}, index=list(data.columns))\n",
    "coef[\"Coeffs\"] = np.abs(coef[\"Coeffs\"])\n",
    "coef.sort_values(by='Coeffs', ascending=False, inplace=True)\n",
    "coef.plot.bar();"
   ]
  },
  {
   "cell_type": "markdown",
   "id": "9ec61303",
   "metadata": {},
   "source": [
    "Comme on peut le constater, beaucoup de variables ne sont pas considérées ou très peu dans l'analyse Lasso."
   ]
  },
  {
   "cell_type": "markdown",
   "id": "a5c836b2",
   "metadata": {},
   "source": [
    "### Cinquième modèle: ElasticNetCV"
   ]
  },
  {
   "cell_type": "markdown",
   "id": "11757970",
   "metadata": {},
   "source": [
    "Nous allons maintenant utiliser le modèle de régression le plus efficace, ElasticNet CV pour essayer d'améliorer notre modèle. Il combine les caractéristiques de Lasso et Ridge."
   ]
  },
  {
   "cell_type": "code",
   "execution_count": 38,
   "id": "602c1573",
   "metadata": {},
   "outputs": [
    {
     "data": {
      "text/plain": [
       "ElasticNetCV(alphas=(0.001, 0.01, 0.1, 0.3, 0.7, 1, 10, 30, 50, 100),\n",
       "             l1_ratio=(0.1, 0.2, 0.3, 0.4, 0.5, 0.6, 0.7, 0.8, 0.9, 0.99))"
      ]
     },
     "execution_count": 38,
     "metadata": {},
     "output_type": "execute_result"
    }
   ],
   "source": [
    "from sklearn.linear_model import ElasticNetCV\n",
    "\n",
    "elnet_reg = ElasticNetCV(l1_ratio=(0.1,0.2,0.3,0.4,0.5,0.6,0.7,0.8,0.9,0.99), alphas=(0.001,0.01,0.1,0.3,0.7,1,10,30,50,100))\n",
    "elnet_reg.fit(X_train, y_train)"
   ]
  },
  {
   "cell_type": "markdown",
   "id": "191128d9",
   "metadata": {},
   "source": [
    "Voici l'alpha/ratio optimal et les scores de ce modèle:"
   ]
  },
  {
   "cell_type": "code",
   "execution_count": 39,
   "id": "e402ae49",
   "metadata": {},
   "outputs": [
    {
     "name": "stdout",
     "output_type": "stream",
     "text": [
      "Alpha: 0.001\n",
      "Ratio: 0.99\n",
      "R² Score train: 0.4544196707197574\n",
      "R² Score test: 0.450135477504082\n"
     ]
    }
   ],
   "source": [
    "print(f'Alpha: {elnet_reg.alpha_}')\n",
    "print(f'Ratio: {elnet_reg.l1_ratio_}')\n",
    "print(f'R² Score train: {elnet_reg.score(X_train, y_train)}')\n",
    "print(f'R² Score test: {elnet_reg.score(X_test, y_test)}')"
   ]
  },
  {
   "cell_type": "markdown",
   "id": "5c51992c",
   "metadata": {},
   "source": [
    "Nous sommes encore une fois sur des scores comparables aux modèles précédents.\n",
    "Voici les variables les plus importantes dans le modèle selon leurs coefficients:"
   ]
  },
  {
   "cell_type": "code",
   "execution_count": 40,
   "id": "05d94b9e",
   "metadata": {},
   "outputs": [
    {
     "data": {
      "image/png": "[encoded data removed]",
      "text/plain": [
       "<Figure size 432x288 with 1 Axes>"
      ]
     },
     "metadata": {
      "needs_background": "light"
     },
     "output_type": "display_data"
    }
   ],
   "source": [
    "coef = pd.DataFrame({\"Coeffs\": elnet_reg.coef_}, index=list(data.columns))\n",
    "coef[\"Coeffs\"] = np.abs(coef[\"Coeffs\"])\n",
    "coef.sort_values(by='Coeffs', ascending=False, inplace=True)\n",
    "coef.plot.bar();"
   ]
  },
  {
   "cell_type": "markdown",
   "id": "ba6fe355",
   "metadata": {},
   "source": [
    "### Sixième modèle : ElasticNetCV avec sélection de variables"
   ]
  },
  {
   "cell_type": "markdown",
   "id": "d76aaf80",
   "metadata": {},
   "source": [
    "Le but va être d'essayer d'améliorer le modèle en procédant à une sélection des variables grâce au SelectKBest à 16 variables trouvé précédemment."
   ]
  },
  {
   "cell_type": "code",
   "execution_count": 41,
   "id": "21418e8f",
   "metadata": {},
   "outputs": [],
   "source": [
    "sk = SelectKBest(f_regression, k=16)\n",
    "sk.fit(X=data, y=target)\n",
    "\n",
    "X_train_sk = sk.transform(X_train)\n",
    "X_test_sk = sk.transform(X_test)"
   ]
  },
  {
   "cell_type": "markdown",
   "id": "a7ce11da",
   "metadata": {},
   "source": [
    "Nous pouvons maintenant ajuster un modèle ElasticNetCV sur cette base."
   ]
  },
  {
   "cell_type": "code",
   "execution_count": 42,
   "id": "dce63493",
   "metadata": {},
   "outputs": [
    {
     "data": {
      "text/plain": [
       "ElasticNetCV(alphas=(0.001, 0.01, 0.1, 0.3, 0.7, 1, 10, 30, 50, 100),\n",
       "             l1_ratio=(0.1, 0.2, 0.3, 0.4, 0.5, 0.6, 0.7, 0.8, 0.9, 0.99))"
      ]
     },
     "execution_count": 42,
     "metadata": {},
     "output_type": "execute_result"
    }
   ],
   "source": [
    "elnet_reg_sk = ElasticNetCV(l1_ratio=(0.1,0.2,0.3,0.4,0.5,0.6,0.7,0.8,0.9,0.99), alphas=(0.001,0.01,0.1,0.3,0.7,1,10,30,50,100))\n",
    "elnet_reg_sk.fit(X_train_sk, y_train)"
   ]
  },
  {
   "cell_type": "code",
   "execution_count": 43,
   "id": "81366b43",
   "metadata": {},
   "outputs": [
    {
     "name": "stdout",
     "output_type": "stream",
     "text": [
      "Alpha: 0.001\n",
      "Ratio: 0.9\n",
      "R² Score train: 0.4408394244992213\n",
      "R² Score test: 0.43623874598117984\n"
     ]
    }
   ],
   "source": [
    "print(f'Alpha: {elnet_reg_sk.alpha_}')\n",
    "print(f'Ratio: {elnet_reg_sk.l1_ratio_}')\n",
    "print(f'R² Score train: {elnet_reg_sk.score(X_train_sk, y_train)}')\n",
    "print(f'R² Score test: {elnet_reg_sk.score(X_test_sk, y_test)}')"
   ]
  },
  {
   "cell_type": "markdown",
   "id": "8fd31fd4",
   "metadata": {},
   "source": [
    "Comme on peut le constater, cela n'améliore pas le modèle. Les coefficients ci-dessous sont comparables à ceux vus précédemment."
   ]
  },
  {
   "cell_type": "code",
   "execution_count": 44,
   "id": "cf43b28a",
   "metadata": {},
   "outputs": [
    {
     "data": {
      "image/png": "[encoded data removed]",
      "text/plain": [
       "<Figure size 432x288 with 1 Axes>"
      ]
     },
     "metadata": {
      "needs_background": "light"
     },
     "output_type": "display_data"
    }
   ],
   "source": [
    "coef = pd.DataFrame({\"Coeffs\": elnet_reg_sk.coef_}, index=data.columns[sk.get_support()])\n",
    "coef[\"Coeffs\"] = np.abs(coef[\"Coeffs\"])\n",
    "coef.sort_values(by='Coeffs', ascending=False, inplace=True)\n",
    "coef.plot.bar();"
   ]
  },
  {
   "cell_type": "markdown",
   "id": "e629085a",
   "metadata": {},
   "source": [
    "### Septième modèle: XGBoost Regressor"
   ]
  },
  {
   "cell_type": "markdown",
   "id": "70b5e4db",
   "metadata": {},
   "source": [
    "En tant que dernier modèle de régression, nous allons utiliser XGBoost et voir si nous arrivons à des résultats plus probants."
   ]
  },
  {
   "cell_type": "code",
   "execution_count": 45,
   "id": "072f6dcd",
   "metadata": {},
   "outputs": [
    {
     "name": "stdout",
     "output_type": "stream",
     "text": [
      "Best params: {'learning_rate': 0.07, 'max_depth': 5}\n"
     ]
    }
   ],
   "source": [
    "import xgboost as xgb\n",
    "from sklearn.model_selection import GridSearchCV, StratifiedKFold, cross_val_score\n",
    "\n",
    "xgb_reg = xgb.XGBRegressor(n_estimators= 500)\n",
    "param_grid_xgb = {'max_depth': [5,6,7], 'learning_rate': [0.03, 0.07, 0.1, 0.2]}\n",
    "gcv_xgb = GridSearchCV(xgb_reg, param_grid_xgb, cv=3)\n",
    "\n",
    "'''xgb_reg = xgb.XGBRegressor(verbosity=0)\n",
    "xgb_reg.fit(X_train, y_train)'''\n",
    "\n",
    "gcv_xgb.fit(X_train, y_train)\n",
    "best_xgb_reg = gcv_xgb.best_estimator_\n",
    "print(f'Best params: {gcv_xgb.best_params_}')"
   ]
  },
  {
   "cell_type": "code",
   "execution_count": 46,
   "id": "cb3f2ded",
   "metadata": {},
   "outputs": [
    {
     "name": "stdout",
     "output_type": "stream",
     "text": [
      "R² Score train: 0.616787470047775\n",
      "R² Score test: 0.585973732882821\n"
     ]
    }
   ],
   "source": [
    "print(f'R² Score train: {best_xgb_reg.score(X_train, y_train)}')\n",
    "print(f'R² Score test: {best_xgb_reg.score(X_test, y_test)}')"
   ]
  },
  {
   "cell_type": "markdown",
   "id": "b1015c41",
   "metadata": {},
   "source": [
    " Nous pouvons constater une nette amélioration du score avec le modèle xgb, même si on peut supposer un overfitting en observant la différence entre les valeurs train et test. Validons-le avec un scoring sur une cross-validation."
   ]
  },
  {
   "cell_type": "code",
   "execution_count": 47,
   "id": "e48c0fc1",
   "metadata": {},
   "outputs": [
    {
     "name": "stdout",
     "output_type": "stream",
     "text": [
      "R² Score CV: 0.5262645884969611\n"
     ]
    }
   ],
   "source": [
    "score = cross_val_score(best_xgb_reg, data, target, cv=10, scoring='r2').mean()\n",
    "print(f'R² Score CV: {score}')"
   ]
  },
  {
   "cell_type": "markdown",
   "id": "1aa96ee1",
   "metadata": {},
   "source": [
    "Ainsi qu'avec le RMSE:"
   ]
  },
  {
   "cell_type": "code",
   "execution_count": 48,
   "id": "2a23d909",
   "metadata": {},
   "outputs": [
    {
     "name": "stdout",
     "output_type": "stream",
     "text": [
      "rmse train : 1716.9868277555743\n",
      "rmse test :  1778.6073084971226\n"
     ]
    }
   ],
   "source": [
    "pred = best_xgb_reg.predict(X_train)\n",
    "pred_test = best_xgb_reg.predict(X_test)\n",
    "print('rmse train :', np.sqrt(mean_squared_error(y_train, pred)))\n",
    "print('rmse test : ', np.sqrt(mean_squared_error(y_test, pred_test)))"
   ]
  },
  {
   "cell_type": "code",
   "execution_count": 49,
   "id": "9046dd6c",
   "metadata": {},
   "outputs": [
    {
     "name": "stdout",
     "output_type": "stream",
     "text": [
      "rmse CV: 1840.3044311632793\n"
     ]
    }
   ],
   "source": [
    "score = cross_val_score(best_xgb_reg, data, target, cv=10, scoring='neg_mean_squared_error').mean()\n",
    "score = score*-1\n",
    "score = np.sqrt(score)\n",
    "\n",
    "print(f'rmse CV: {score}')"
   ]
  },
  {
   "cell_type": "markdown",
   "id": "0013e33f",
   "metadata": {},
   "source": [
    "Visualisons les résultats et résidus avec d'abord une comparaison prédiction vs réel sur la base de test:"
   ]
  },
  {
   "cell_type": "code",
   "execution_count": 50,
   "id": "601b9b22",
   "metadata": {},
   "outputs": [
    {
     "data": {
      "image/png": "[encoded data removed]",
      "text/plain": [
       "<Figure size 432x288 with 1 Axes>"
      ]
     },
     "metadata": {
      "needs_background": "light"
     },
     "output_type": "display_data"
    }
   ],
   "source": [
    "plt.scatter(pred_test, y_test)\n",
    "plt.plot((y_test.min(), y_test.max()), (y_test.min(), y_test.max()))\n",
    "plt.xlabel('Prédiction')\n",
    "plt.ylabel('Réel');"
   ]
  },
  {
   "cell_type": "markdown",
   "id": "fbd37299",
   "metadata": {},
   "source": [
    "Ainsi que la visualisation des résidus sur l'entraînement. Si on repère certes encore une tendance, il y a une plus grande dispersion autour du 0."
   ]
  },
  {
   "cell_type": "code",
   "execution_count": 51,
   "id": "91f55e4c",
   "metadata": {},
   "outputs": [
    {
     "data": {
      "image/png": "[encoded data removed]",
      "text/plain": [
       "<Figure size 432x288 with 1 Axes>"
      ]
     },
     "metadata": {
      "needs_background": "light"
     },
     "output_type": "display_data"
    }
   ],
   "source": [
    "residus = pred-y_train\n",
    "plt.scatter(y_train, residus, color='#980a10', s=15)\n",
    "plt.plot((y_train.min(), y_train.max()), (0, 0), lw=3, color='#0a5798')\n",
    "plt.xlabel('Valeur réelle')\n",
    "plt.ylabel('Résidus');\n",
    "plt.show();"
   ]
  },
  {
   "cell_type": "markdown",
   "id": "4d630b6c",
   "metadata": {},
   "source": [
    "**Conclusion de ces régressions: le modèle XGB donne de loin les meilleurs résultats parmi tous les modèles testés (même si la régression ploynomiale donne des résultats assez similaires). Cependant, ce n'est pas optimal car les résidus ne sont pas encore aléatoires et il y a une grande dispersion des résultats. Pourquoi?**"
   ]
  },
  {
   "cell_type": "markdown",
   "id": "9eeb54d2",
   "metadata": {},
   "source": [
    "# Explications"
   ]
  },
  {
   "cell_type": "markdown",
   "id": "0c46ceb6",
   "metadata": {},
   "source": [
    "Nous allons rechercher les causes potentielles de la faible qualité de cette régression et la piste la plus évidente consiste à regarder les corrélation des variables explicatives."
   ]
  },
  {
   "cell_type": "code",
   "execution_count": 52,
   "id": "065e92d5",
   "metadata": {},
   "outputs": [
    {
     "data": {
      "image/png": "[encoded data removed]",
      "text/plain": [
       "<Figure size 432x288 with 1 Axes>"
      ]
     },
     "metadata": {
      "needs_background": "light"
     },
     "output_type": "display_data"
    }
   ],
   "source": [
    "corr = np.abs(temp_df.corr()['Eolien (MW)']).sort_values(ascending=False)\n",
    "corr.drop('Eolien (MW)', inplace=True)\n",
    "corr.plot.bar();"
   ]
  },
  {
   "cell_type": "markdown",
   "id": "1b440878",
   "metadata": {},
   "source": [
    "Il y a en fait peu de corrélations intéressantes, seulement 2 régions ainsi que la vitesse du vent ont une corrélation supérieure à 0.20. La relation linéaire est peu évidente entre l'éolien et ces variables. Pourtant quand on regarde les p-values des variables, elles ont l'air en très grande majorité significatives:"
   ]
  },
  {
   "cell_type": "code",
   "execution_count": 53,
   "id": "693b4f24",
   "metadata": {},
   "outputs": [
    {
     "data": {
      "text/html": [
       "<div>\n",
       "<style scoped>\n",
       "    .dataframe tbody tr th:only-of-type {\n",
       "        vertical-align: middle;\n",
       "    }\n",
       "\n",
       "    .dataframe tbody tr th {\n",
       "        vertical-align: top;\n",
       "    }\n",
       "\n",
       "    .dataframe thead th {\n",
       "        text-align: right;\n",
       "    }\n",
       "</style>\n",
       "<table border=\"1\" class=\"dataframe\">\n",
       "  <thead>\n",
       "    <tr style=\"text-align: right;\">\n",
       "      <th></th>\n",
       "      <th>P-values</th>\n",
       "    </tr>\n",
       "  </thead>\n",
       "  <tbody>\n",
       "    <tr>\n",
       "      <th>Vitesse du vent à 100m (m/s)</th>\n",
       "      <td>0.00</td>\n",
       "    </tr>\n",
       "    <tr>\n",
       "      <th>Rayonnement solaire global (W/m2)</th>\n",
       "      <td>0.00</td>\n",
       "    </tr>\n",
       "    <tr>\n",
       "      <th>Region_Auvergne-Rhône-Alpes</th>\n",
       "      <td>0.00</td>\n",
       "    </tr>\n",
       "    <tr>\n",
       "      <th>Region_Bourgogne-Franche-Comté</th>\n",
       "      <td>0.00</td>\n",
       "    </tr>\n",
       "    <tr>\n",
       "      <th>Region_Centre-Val de Loire</th>\n",
       "      <td>0.00</td>\n",
       "    </tr>\n",
       "    <tr>\n",
       "      <th>Region_Grand Est</th>\n",
       "      <td>0.00</td>\n",
       "    </tr>\n",
       "    <tr>\n",
       "      <th>Region_Hauts-de-France</th>\n",
       "      <td>0.00</td>\n",
       "    </tr>\n",
       "    <tr>\n",
       "      <th>Region_Normandie</th>\n",
       "      <td>0.00</td>\n",
       "    </tr>\n",
       "    <tr>\n",
       "      <th>Region_Nouvelle-Aquitaine</th>\n",
       "      <td>0.00</td>\n",
       "    </tr>\n",
       "    <tr>\n",
       "      <th>Region_Occitanie</th>\n",
       "      <td>0.00</td>\n",
       "    </tr>\n",
       "    <tr>\n",
       "      <th>Region_Pays de la Loire</th>\n",
       "      <td>0.00</td>\n",
       "    </tr>\n",
       "    <tr>\n",
       "      <th>Region_Provence-Alpes-Côte d'Azur</th>\n",
       "      <td>0.00</td>\n",
       "    </tr>\n",
       "    <tr>\n",
       "      <th>Region_Île-de-France</th>\n",
       "      <td>0.00</td>\n",
       "    </tr>\n",
       "    <tr>\n",
       "      <th>Heure_3</th>\n",
       "      <td>0.07</td>\n",
       "    </tr>\n",
       "    <tr>\n",
       "      <th>Heure_6</th>\n",
       "      <td>0.00</td>\n",
       "    </tr>\n",
       "    <tr>\n",
       "      <th>Heure_9</th>\n",
       "      <td>0.00</td>\n",
       "    </tr>\n",
       "    <tr>\n",
       "      <th>Heure_12</th>\n",
       "      <td>0.35</td>\n",
       "    </tr>\n",
       "    <tr>\n",
       "      <th>Heure_15</th>\n",
       "      <td>0.01</td>\n",
       "    </tr>\n",
       "    <tr>\n",
       "      <th>Heure_18</th>\n",
       "      <td>0.00</td>\n",
       "    </tr>\n",
       "    <tr>\n",
       "      <th>Heure_21</th>\n",
       "      <td>0.00</td>\n",
       "    </tr>\n",
       "    <tr>\n",
       "      <th>Mois_1</th>\n",
       "      <td>0.00</td>\n",
       "    </tr>\n",
       "    <tr>\n",
       "      <th>Mois_2</th>\n",
       "      <td>0.00</td>\n",
       "    </tr>\n",
       "    <tr>\n",
       "      <th>Mois_4</th>\n",
       "      <td>0.00</td>\n",
       "    </tr>\n",
       "    <tr>\n",
       "      <th>Mois_5</th>\n",
       "      <td>0.00</td>\n",
       "    </tr>\n",
       "    <tr>\n",
       "      <th>Mois_6</th>\n",
       "      <td>0.00</td>\n",
       "    </tr>\n",
       "    <tr>\n",
       "      <th>Mois_7</th>\n",
       "      <td>0.00</td>\n",
       "    </tr>\n",
       "    <tr>\n",
       "      <th>Mois_8</th>\n",
       "      <td>0.00</td>\n",
       "    </tr>\n",
       "    <tr>\n",
       "      <th>Mois_9</th>\n",
       "      <td>0.00</td>\n",
       "    </tr>\n",
       "    <tr>\n",
       "      <th>Mois_10</th>\n",
       "      <td>0.00</td>\n",
       "    </tr>\n",
       "    <tr>\n",
       "      <th>Mois_11</th>\n",
       "      <td>0.00</td>\n",
       "    </tr>\n",
       "    <tr>\n",
       "      <th>Mois_12</th>\n",
       "      <td>0.00</td>\n",
       "    </tr>\n",
       "  </tbody>\n",
       "</table>\n",
       "</div>"
      ],
      "text/plain": [
       "                                   P-values\n",
       "Vitesse du vent à 100m (m/s)           0.00\n",
       "Rayonnement solaire global (W/m2)      0.00\n",
       "Region_Auvergne-Rhône-Alpes            0.00\n",
       "Region_Bourgogne-Franche-Comté         0.00\n",
       "Region_Centre-Val de Loire             0.00\n",
       "Region_Grand Est                       0.00\n",
       "Region_Hauts-de-France                 0.00\n",
       "Region_Normandie                       0.00\n",
       "Region_Nouvelle-Aquitaine              0.00\n",
       "Region_Occitanie                       0.00\n",
       "Region_Pays de la Loire                0.00\n",
       "Region_Provence-Alpes-Côte d'Azur      0.00\n",
       "Region_Île-de-France                   0.00\n",
       "Heure_3                                0.07\n",
       "Heure_6                                0.00\n",
       "Heure_9                                0.00\n",
       "Heure_12                               0.35\n",
       "Heure_15                               0.01\n",
       "Heure_18                               0.00\n",
       "Heure_21                               0.00\n",
       "Mois_1                                 0.00\n",
       "Mois_2                                 0.00\n",
       "Mois_4                                 0.00\n",
       "Mois_5                                 0.00\n",
       "Mois_6                                 0.00\n",
       "Mois_7                                 0.00\n",
       "Mois_8                                 0.00\n",
       "Mois_9                                 0.00\n",
       "Mois_10                                0.00\n",
       "Mois_11                                0.00\n",
       "Mois_12                                0.00"
      ]
     },
     "execution_count": 53,
     "metadata": {},
     "output_type": "execute_result"
    }
   ],
   "source": [
    "p_values = []\n",
    "for i in data.columns:\n",
    "    pearstat = scipy.stats.pearsonr(data[i], target)\n",
    "    p_values.append(pearstat[1])\n",
    "\n",
    "p_val_df = pd.DataFrame(p_values, index = data.columns, columns = ['P-values'])\n",
    "p_val_df"
   ]
  },
  {
   "cell_type": "markdown",
   "id": "b85d61e0",
   "metadata": {},
   "source": [
    "Et la région paraît significative aussi par le test ANOVA avec une p-value très faible:"
   ]
  },
  {
   "cell_type": "code",
   "execution_count": 54,
   "id": "9adaa576",
   "metadata": {},
   "outputs": [],
   "source": [
    "pval_db = df.groupby(['Date','Hour', 'Code INSEE région']).sum().reset_index()\n",
    "pval_db['Date'] = pd.to_datetime(pval_db['Date'], utc=True)\n",
    "pval_db = pval_db.merge(right=meteo_df, on=['Date','Hour', 'Code INSEE région'], how='inner')\n",
    "pval_db['Mois'] = pval_db['Date'].dt.month\n",
    "pval_db.set_index(['Date - Heure'], inplace=True)\n",
    "pval_db.rename({'Eolien (MW)': 'Eolien'}, axis=1, inplace=True)"
   ]
  },
  {
   "cell_type": "code",
   "execution_count": 55,
   "id": "dadfeeb3",
   "metadata": {},
   "outputs": [
    {
     "name": "stdout",
     "output_type": "stream",
     "text": [
      "Test ANOVA\n",
      "                 df           sum_sq         mean_sq        F  PR(>F)\n",
      "Région       11.000 496818707846.671 45165337076.970 8835.347   0.000\n",
      "Residual 193224.000 987740148017.766     5111891.628      NaN     NaN\n"
     ]
    }
   ],
   "source": [
    "#Test ANOVA\n",
    "pd.set_option('display.float_format', lambda x: '%.3f' % x)\n",
    "result = statsmodels.formula.api.ols('Eolien ~ Région', data = pval_db).fit()  \n",
    "table = statsmodels.api.stats.anova_lm(result)\n",
    "\n",
    "print('Test ANOVA')\n",
    "print(table)"
   ]
  },
  {
   "cell_type": "markdown",
   "id": "d59024b1",
   "metadata": {},
   "source": [
    "**Il est possible que les variables soient significatives par quelques unes de leurs modalités (régions principales, mois d'hiver et d'été comme déjà vu avec l'analyse des corrélations). Cependant la relation existante reste faible est peu linéaire et les modèles ont donc des difficultés à être efficaces.**"
   ]
  },
  {
   "cell_type": "markdown",
   "id": "52a719d7",
   "metadata": {},
   "source": [
    "**Si nous nous souvenons de l'analyse exploratoire, il s'était avéré qu'en pratique, seulement 2 régions pouvait être productrices d'énergie éolienne de manière importante (les Hauts-de-France et le Grand-Est) et ceci seulement en hiver. La conclusion de tous ces modèles est que cela ne crée pas une relation linéaire suffisante pour avoir des régressions efficaces.**"
   ]
  },
  {
   "cell_type": "markdown",
   "id": "024cc6c9",
   "metadata": {},
   "source": [
    "# Modèles de régression sur une base présélectionnée"
   ]
  },
  {
   "cell_type": "markdown",
   "id": "50b174c5",
   "metadata": {},
   "source": [
    "Pour conclure cette analyse, nous allons combiner ce que nous savons pour essayer un autre modèle:\n",
    "- de l'analyse exploratoires et du classement des corrélations ci-dessus, nous savons que seules 2 régions sont productrices d'énergie éoliennes de manière importante (Grand-Est et Hauts-de-France)\n",
    "- les modèles polynomiaux et XGB Regressor donnent les meilleurs résultats sur la base complète.\n",
    "\n",
    "Nous allons donc filtrer la database sur les 2 régions nommées ci-dessus et entraîner 2 modèles uniquement sur cela (en supprimant les variables catégorielles de région). Par la suite, nous allons également tester le modèle sur la base complète et vérifier les résultats."
   ]
  },
  {
   "cell_type": "code",
   "execution_count": 58,
   "id": "759c84c4",
   "metadata": {},
   "outputs": [],
   "source": [
    "data2 = temp_df[(temp_df['Region_Grand Est'] == 1) | (temp_df['Region_Hauts-de-France'] == 1)]\n",
    "target2 = data2['Eolien (MW)']\n",
    "data2 = data2.drop(['Eolien (MW)', 'Solaire (MW)', 'Region_Auvergne-Rhône-Alpes','Region_Bourgogne-Franche-Comté', \n",
    "                      'Region_Bretagne', 'Region_Centre-Val de Loire', 'Region_Grand Est', 'Region_Hauts-de-France', \n",
    "                      'Region_Normandie', 'Region_Nouvelle-Aquitaine', 'Region_Occitanie', 'Region_Pays de la Loire', \n",
    "                      \"Region_Provence-Alpes-Côte d'Azur\",'Region_Île-de-France', 'Heure_0', 'Mois_3'], axis=1)"
   ]
  },
  {
   "cell_type": "markdown",
   "id": "c4527df8",
   "metadata": {},
   "source": [
    "Maintenant, nous allons procéder comme précédemment: split, mise à l'échelle et entraîenment avec grille."
   ]
  },
  {
   "cell_type": "code",
   "execution_count": 63,
   "id": "6a8241d8",
   "metadata": {},
   "outputs": [],
   "source": [
    "X_train2, X_test2, y_train2, y_test2 = train_test_split(data2, target2, test_size=0.2)\n",
    "scaler2 = preprocessing.StandardScaler().fit(X_train2)\n",
    "X_train2 = scaler2.transform(X_train2)\n",
    "X_test2 = scaler2.transform(X_test2)"
   ]
  },
  {
   "cell_type": "markdown",
   "id": "0eb9a6da",
   "metadata": {},
   "source": [
    "Voici le modèle polynomial:"
   ]
  },
  {
   "cell_type": "code",
   "execution_count": 69,
   "id": "98c2f443",
   "metadata": {},
   "outputs": [
    {
     "data": {
      "text/plain": [
       "LinearRegression()"
      ]
     },
     "execution_count": 69,
     "metadata": {},
     "output_type": "execute_result"
    }
   ],
   "source": [
    "poly2 = PolynomialFeatures(degree=2)\n",
    "X_train_poly2 = poly.fit_transform(X_train2)\n",
    "X_test_poly2 = poly.transform(X_test2)\n",
    "\n",
    "poly_model2 = LinearRegression()\n",
    "poly_model2.fit(X_train_poly2, y_train2)"
   ]
  },
  {
   "cell_type": "code",
   "execution_count": 70,
   "id": "a074f988",
   "metadata": {},
   "outputs": [
    {
     "name": "stdout",
     "output_type": "stream",
     "text": [
      "Score train : 0.3724635286714899\n",
      "Score test : 0.38118527971836313 \n",
      "\n",
      "rmse train : 3958.0878552675285\n",
      "rmse test :  3955.7485800474014\n"
     ]
    }
   ],
   "source": [
    "print('Score train :', poly_model2.score(X_train_poly2, y_train2))\n",
    "print('Score test :', poly_model2.score(X_test_poly2, y_test2), '\\n')\n",
    "\n",
    "pred = poly_model2.predict(X_train_poly2)\n",
    "pred_test = poly_model2.predict(X_test_poly2)\n",
    "print('rmse train :', np.sqrt(mean_squared_error(y_train2, pred)))\n",
    "print('rmse test : ', np.sqrt(mean_squared_error(y_test2, pred_test)))"
   ]
  },
  {
   "cell_type": "markdown",
   "id": "0cadf057",
   "metadata": {},
   "source": [
    "Nous avons les pires résultats prédictifs parmi tous les modèles. Nous pouvons nous arrêter là à son sujet.\n",
    "En ce qui concerne XGB:"
   ]
  },
  {
   "cell_type": "code",
   "execution_count": 65,
   "id": "b2861d32",
   "metadata": {},
   "outputs": [
    {
     "name": "stdout",
     "output_type": "stream",
     "text": [
      "Best params: {'learning_rate': 0.03, 'max_depth': 5}\n"
     ]
    }
   ],
   "source": [
    "xgb_reg2 = xgb.XGBRegressor(n_estimators= 500)\n",
    "param_grid_xgb2 = {'max_depth': [5,6,7], 'learning_rate': [0.03, 0.07, 0.1, 0.2]}\n",
    "gcv_xgb2 = GridSearchCV(xgb_reg2, param_grid_xgb2, cv=3)\n",
    "\n",
    "gcv_xgb2.fit(X_train2, y_train2)\n",
    "best_xgb_reg2 = gcv_xgb2.best_estimator_\n",
    "print(f'Best params: {gcv_xgb2.best_params_}')"
   ]
  },
  {
   "cell_type": "code",
   "execution_count": 66,
   "id": "3ac64f25",
   "metadata": {},
   "outputs": [
    {
     "name": "stdout",
     "output_type": "stream",
     "text": [
      "R² Score train: 0.44518049026992224\n",
      "R² Score test: 0.388671595734009\n"
     ]
    }
   ],
   "source": [
    "print(f'R² Score train: {best_xgb_reg2.score(X_train2, y_train2)}')\n",
    "print(f'R² Score test: {best_xgb_reg2.score(X_test2, y_test2)}')"
   ]
  },
  {
   "cell_type": "code",
   "execution_count": 67,
   "id": "38f2b420",
   "metadata": {},
   "outputs": [
    {
     "name": "stdout",
     "output_type": "stream",
     "text": [
      "rmse train : 3721.703802746817\n",
      "rmse test :  3931.747780510945\n"
     ]
    }
   ],
   "source": [
    "pred = best_xgb_reg2.predict(X_train2)\n",
    "pred_test = best_xgb_reg2.predict(X_test2)\n",
    "print('rmse train :', np.sqrt(mean_squared_error(y_train2, pred)))\n",
    "print('rmse test : ', np.sqrt(mean_squared_error(y_test2, pred_test)))"
   ]
  },
  {
   "cell_type": "code",
   "execution_count": 68,
   "id": "e97e7081",
   "metadata": {},
   "outputs": [
    {
     "data": {
      "image/png": "[encoded data removed]",
      "text/plain": [
       "<Figure size 432x288 with 1 Axes>"
      ]
     },
     "metadata": {
      "needs_background": "light"
     },
     "output_type": "display_data"
    }
   ],
   "source": [
    "residus = pred-y_train2\n",
    "plt.scatter(y_train2, residus, color='#980a10', s=15)\n",
    "plt.plot((y_train2.min(), y_train2.max()), (0, 0), lw=3, color='#0a5798')\n",
    "plt.xlabel('Valeur réelle')\n",
    "plt.ylabel('Résidus');\n",
    "plt.show();"
   ]
  },
  {
   "cell_type": "markdown",
   "id": "f5007377",
   "metadata": {},
   "source": [
    "Encore une fois, ce n'est absolument pas une amélioration bien au contraire (même s'il fonctionne mieux que le polynomial). Si nous regardons les corrélations dans cette database filtrée, nous pouvons voir qu'une seule variable compte, la vitesse du vent."
   ]
  },
  {
   "cell_type": "code",
   "execution_count": 131,
   "id": "5e0d5867",
   "metadata": {},
   "outputs": [
    {
     "data": {
      "image/png": "[encoded data removed]",
      "text/plain": [
       "<Figure size 432x288 with 1 Axes>"
      ]
     },
     "metadata": {
      "needs_background": "light"
     },
     "output_type": "display_data"
    }
   ],
   "source": [
    "data_corr = data2.join(target2)\n",
    "corr = np.abs(data_corr.corr()['Eolien (MW)']).sort_values(ascending=False)\n",
    "corr.drop('Eolien (MW)', inplace=True)\n",
    "corr.plot.bar();"
   ]
  },
  {
   "cell_type": "markdown",
   "id": "094857a6",
   "metadata": {},
   "source": [
    "De plus cette vitesse du vent, si elle varie avec les saisons, ne varie que relativement peu là où la production éolienne était plus que doublée en hiver dans les régions concernées. **Cela peut être une explication des difficultés de ces modèles: s'il existe une relation, elle est loin d'être consistante dans le temps**"
   ]
  },
  {
   "cell_type": "code",
   "execution_count": 132,
   "id": "e11c594b",
   "metadata": {},
   "outputs": [
    {
     "data": {
      "image/png": "[encoded data removed]",
      "text/plain": [
       "<Figure size 576x288 with 1 Axes>"
      ]
     },
     "metadata": {
      "needs_background": "light"
     },
     "output_type": "display_data"
    }
   ],
   "source": [
    "data_corr['Mois'] = data_corr.index.month\n",
    "data_corr = data_corr.groupby(['Mois']).mean().reset_index()\n",
    "fig, ax = plt.subplots(figsize=(8,4))\n",
    "g = sns.lineplot(x= 'Mois', y='Vitesse du vent à 100m (m/s)', ax=ax, data=data_corr)\n",
    "g.set_yticks(range(0,9))\n",
    "g.set_xticks(range(1,13));"
   ]
  },
  {
   "cell_type": "markdown",
   "id": "79d5da41",
   "metadata": {},
   "source": [
    "Appliquons ces modèles sur le reste de la database:"
   ]
  },
  {
   "cell_type": "code",
   "execution_count": 72,
   "id": "10b5b41e",
   "metadata": {},
   "outputs": [],
   "source": [
    "data_other = temp_df[(temp_df['Region_Grand Est'] == 0) & (temp_df['Region_Hauts-de-France'] == 0)]\n",
    "target_other = data_other['Eolien (MW)']\n",
    "data_other = data_other.drop(['Eolien (MW)', 'Solaire (MW)', 'Region_Auvergne-Rhône-Alpes','Region_Bourgogne-Franche-Comté', \n",
    "                      'Region_Bretagne', 'Region_Centre-Val de Loire', 'Region_Grand Est', 'Region_Hauts-de-France', \n",
    "                      'Region_Normandie', 'Region_Nouvelle-Aquitaine', 'Region_Occitanie', 'Region_Pays de la Loire', \n",
    "                      \"Region_Provence-Alpes-Côte d'Azur\",'Region_Île-de-France', 'Heure_0', 'Mois_3'], axis=1)\n",
    "\n",
    "data_other_scaled = scaler2.transform(data_other)"
   ]
  },
  {
   "cell_type": "code",
   "execution_count": 74,
   "id": "8cdfc86e",
   "metadata": {},
   "outputs": [
    {
     "name": "stdout",
     "output_type": "stream",
     "text": [
      "R² Score other: -15.01799168209292\n",
      "rmse other : 4972.148692708952\n"
     ]
    }
   ],
   "source": [
    "print(f'R² Score other: {best_xgb_reg2.score(data_other_scaled, target_other)}')\n",
    "pred = best_xgb_reg2.predict(data_other_scaled)\n",
    "print('rmse other :', np.sqrt(mean_squared_error(target_other, pred)))"
   ]
  },
  {
   "cell_type": "markdown",
   "id": "7ce6fe41",
   "metadata": {},
   "source": [
    "Comme attendu, ces scores sont désastreux."
   ]
  },
  {
   "cell_type": "markdown",
   "id": "aec87282",
   "metadata": {},
   "source": [
    "# Conclusions"
   ]
  },
  {
   "cell_type": "markdown",
   "id": "0eabb27e",
   "metadata": {},
   "source": [
    "Il apparaît impossible d'obtenir une meilleure régression que celle effectuée sur la base complète avec un XGBoost Regressor qui avait un R² score de 0.58 sur la base de test, ce qui n'est pas optimal.\n",
    "\n",
    "Le modèle:\n",
    "- prédit mal les valeurs importantes (résidus croissant avec la valeur réelle)\n",
    "- a au final peu de variables explicatives significatives (seulement les 2 régions les plus productrices d'énergie éolienne et la vitesse du vent).\n",
    "\n",
    "Si on revient sur l'analyse exploratoire et les corrélations, il y a des pistes d'explications à cette non-linéarité:\n",
    "- la vitesse du vent n'est pas une corrélation claire avec la production éolienne car les régions qui avaient les vents les plus importants ne produisent pas d'énergie éolienne. **On revient sur la question du placement des éoliennes en France.**\n",
    "- les régions sont extrêmement disparates entre elles avec certaines qui n'ont quasiment pas de capacité de production, ce qui fausse l'analyse\n",
    "- et même parmi celles qui ont des capacités de production, la production n'est pas clairement linéaire avec la vitesse du vent ou la période de l'année."
   ]
  }
 ],
 "metadata": {
  "kernelspec": {
   "display_name": "Python 3",
   "language": "python",
   "name": "python3"
  },
  "language_info": {
   "codemirror_mode": {
    "name": "ipython",
    "version": 3
   },
   "file_extension": ".py",
   "mimetype": "text/x-python",
   "name": "python",
   "nbconvert_exporter": "python",
   "pygments_lexer": "ipython3",
   "version": "3.8.8"
  }
 },
 "nbformat": 4,
 "nbformat_minor": 5
}
